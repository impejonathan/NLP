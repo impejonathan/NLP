{
 "cells": [
  {
   "cell_type": "code",
   "execution_count": 3,
   "metadata": {},
   "outputs": [
    {
     "name": "stderr",
     "output_type": "stream",
     "text": [
      "c:\\Users\\impej\\miniconda3\\lib\\site-packages\\numba\\core\\decorators.py:262: NumbaDeprecationWarning: \u001b[1mnumba.generated_jit is deprecated. Please see the documentation at: https://numba.readthedocs.io/en/stable/reference/deprecation.html#deprecation-of-generated-jit for more information and advice on a suitable replacement.\u001b[0m\n",
      "  warnings.warn(msg, NumbaDeprecationWarning)\n",
      "C:\\Users\\impej\\AppData\\Roaming\\Python\\Python310\\site-packages\\visions\\backends\\shared\\nan_handling.py:51: NumbaDeprecationWarning: \u001b[1mThe 'nopython' keyword argument was not supplied to the 'numba.jit' decorator. The implicit default value for this argument is currently False, but it will be changed to True in Numba 0.59.0. See https://numba.readthedocs.io/en/stable/reference/deprecation.html#deprecation-of-object-mode-fall-back-behaviour-when-using-jit for details.\u001b[0m\n",
      "  def hasna(x: np.ndarray) -> bool:\n"
     ]
    }
   ],
   "source": [
    "import pandas as pd \n",
    "import matplotlib.pyplot as plt\n",
    "import seaborn as sns\n",
    "import numpy as np\n",
    "from ydata_profiling import ProfileReport\n",
    "\n",
    "import spacy\n",
    "from textblob import TextBlob\n",
    "\n",
    "\n",
    "df = pd.read_csv(\"Emotion_final.csv\")\n",
    "pd.set_option('display.max_columns', None)  "
   ]
  },
  {
   "attachments": {},
   "cell_type": "markdown",
   "metadata": {},
   "source": [
    "## création de la BDD fake avec elastique search "
   ]
  },
  {
   "cell_type": "code",
   "execution_count": 1,
   "metadata": {},
   "outputs": [
    {
     "name": "stdout",
     "output_type": "stream",
     "text": [
      "{\"took\":755,\"errors\":false,\"items\":[{\"index\":{\"_index\":\"notes\",\"_type\":\"_doc\",\"_id\":\"h5IEIIkBdEg6yxurU0ah\",\"_version\":1,\"result\":\"created\",\"_shards\":{\"total\":2,\"successful\":1,\"failed\":0},\"_seq_no\":0,\"_primary_term\":1,\"status\":201}},{\"index\":{\"_index\":\"notes\",\"_type\":\"_doc\",\"_id\":\"iJIEIIkBdEg6yxurU0ah\",\"_version\":1,\"result\":\"created\",\"_shards\":{\"total\":2,\"successful\":1,\"failed\":0},\"_seq_no\":1,\"_primary_term\":1,\"status\":201}},{\"index\":{\"_index\":\"notes\",\"_type\":\"_doc\",\"_id\":\"iZIEIIkBdEg6yxurU0ah\",\"_version\":1,\"result\":\"created\",\"_shards\":{\"total\":2,\"successful\":1,\"failed\":0},\"_seq_no\":2,\"_primary_term\":1,\"status\":201}},{\"index\":{\"_index\":\"notes\",\"_type\":\"_doc\",\"_id\":\"ipIEIIkBdEg6yxurU0ah\",\"_version\":1,\"result\":\"created\",\"_shards\":{\"total\":2,\"successful\":1,\"failed\":0},\"_seq_no\":3,\"_primary_term\":1,\"status\":201}},{\"index\":{\"_index\":\"notes\",\"_type\":\"_doc\",\"_id\":\"i5IEIIkBdEg6yxurU0ah\",\"_version\":1,\"result\":\"created\",\"_shards\":{\"total\":2,\"successful\":1,\"failed\":0},\"_seq_no\":4,\"_primary_term\":1,\"status\":201}},{\"index\":{\"_index\":\"notes\",\"_type\":\"_doc\",\"_id\":\"jJIEIIkBdEg6yxurU0ah\",\"_version\":1,\"result\":\"created\",\"_shards\":{\"total\":2,\"successful\":1,\"failed\":0},\"_seq_no\":5,\"_primary_term\":1,\"status\":201}},{\"index\":{\"_index\":\"notes\",\"_type\":\"_doc\",\"_id\":\"jZIEIIkBdEg6yxurU0ah\",\"_version\":1,\"result\":\"created\",\"_shards\":{\"total\":2,\"successful\":1,\"failed\":0},\"_seq_no\":6,\"_primary_term\":1,\"status\":201}},{\"index\":{\"_index\":\"notes\",\"_type\":\"_doc\",\"_id\":\"jpIEIIkBdEg6yxurU0ah\",\"_version\":1,\"result\":\"created\",\"_shards\":{\"total\":2,\"successful\":1,\"failed\":0},\"_seq_no\":7,\"_primary_term\":1,\"status\":201}},{\"index\":{\"_index\":\"notes\",\"_type\":\"_doc\",\"_id\":\"j5IEIIkBdEg6yxurU0ah\",\"_version\":1,\"result\":\"created\",\"_shards\":{\"total\":2,\"successful\":1,\"failed\":0},\"_seq_no\":8,\"_primary_term\":1,\"status\":201}},{\"index\":{\"_index\":\"notes\",\"_type\":\"_doc\",\"_id\":\"kJIEIIkBdEg6yxurU0ah\",\"_version\":1,\"result\":\"created\",\"_shards\":{\"total\":2,\"successful\":1,\"failed\":0},\"_seq_no\":9,\"_primary_term\":1,\"status\":201}},{\"index\":{\"_index\":\"notes\",\"_type\":\"_doc\",\"_id\":\"kZIEIIkBdEg6yxurU0ah\",\"_version\":1,\"result\":\"created\",\"_shards\":{\"total\":2,\"successful\":1,\"failed\":0},\"_seq_no\":10,\"_primary_term\":1,\"status\":201}},{\"index\":{\"_index\":\"notes\",\"_type\":\"_doc\",\"_id\":\"kpIEIIkBdEg6yxurU0ah\",\"_version\":1,\"result\":\"created\",\"_shards\":{\"total\":2,\"successful\":1,\"failed\":0},\"_seq_no\":11,\"_primary_term\":1,\"status\":201}},{\"index\":{\"_index\":\"notes\",\"_type\":\"_doc\",\"_id\":\"k5IEIIkBdEg6yxurU0ah\",\"_version\":1,\"result\":\"created\",\"_shards\":{\"total\":2,\"successful\":1,\"failed\":0},\"_seq_no\":12,\"_primary_term\":1,\"status\":201}},{\"index\":{\"_index\":\"notes\",\"_type\":\"_doc\",\"_id\":\"lJIEIIkBdEg6yxurU0ah\",\"_version\":1,\"result\":\"created\",\"_shards\":{\"total\":2,\"successful\":1,\"failed\":0},\"_seq_no\":13,\"_primary_term\":1,\"status\":201}},{\"index\":{\"_index\":\"notes\",\"_type\":\"_doc\",\"_id\":\"lZIEIIkBdEg6yxurU0ah\",\"_version\":1,\"result\":\"created\",\"_shards\":{\"total\":2,\"successful\":1,\"failed\":0},\"_seq_no\":14,\"_primary_term\":1,\"status\":201}},{\"index\":{\"_index\":\"notes\",\"_type\":\"_doc\",\"_id\":\"lpIEIIkBdEg6yxurU0ah\",\"_version\":1,\"result\":\"created\",\"_shards\":{\"total\":2,\"successful\":1,\"failed\":0},\"_seq_no\":15,\"_primary_term\":1,\"status\":201}},{\"index\":{\"_index\":\"notes\",\"_type\":\"_doc\",\"_id\":\"l5IEIIkBdEg6yxurU0ah\",\"_version\":1,\"result\":\"created\",\"_shards\":{\"total\":2,\"successful\":1,\"failed\":0},\"_seq_no\":16,\"_primary_term\":1,\"status\":201}},{\"index\":{\"_index\":\"notes\",\"_type\":\"_doc\",\"_id\":\"mJIEIIkBdEg6yxurU0ah\",\"_version\":1,\"result\":\"created\",\"_shards\":{\"total\":2,\"successful\":1,\"failed\":0},\"_seq_no\":17,\"_primary_term\":1,\"status\":201}},{\"index\":{\"_index\":\"notes\",\"_type\":\"_doc\",\"_id\":\"mZIEIIkBdEg6yxurU0ah\",\"_version\":1,\"result\":\"created\",\"_shards\":{\"total\":2,\"successful\":1,\"failed\":0},\"_seq_no\":18,\"_primary_term\":1,\"status\":201}},{\"index\":{\"_index\":\"notes\",\"_type\":\"_doc\",\"_id\":\"mpIEIIkBdEg6yxurU0ah\",\"_version\":1,\"result\":\"created\",\"_shards\":{\"total\":2,\"successful\":1,\"failed\":0},\"_seq_no\":19,\"_primary_term\":1,\"status\":201}},{\"index\":{\"_index\":\"notes\",\"_type\":\"_doc\",\"_id\":\"m5IEIIkBdEg6yxurU0ah\",\"_version\":1,\"result\":\"created\",\"_shards\":{\"total\":2,\"successful\":1,\"failed\":0},\"_seq_no\":20,\"_primary_term\":1,\"status\":201}},{\"index\":{\"_index\":\"notes\",\"_type\":\"_doc\",\"_id\":\"nJIEIIkBdEg6yxurU0ah\",\"_version\":1,\"result\":\"created\",\"_shards\":{\"total\":2,\"successful\":1,\"failed\":0},\"_seq_no\":21,\"_primary_term\":1,\"status\":201}},{\"index\":{\"_index\":\"notes\",\"_type\":\"_doc\",\"_id\":\"nZIEIIkBdEg6yxurU0ah\",\"_version\":1,\"result\":\"created\",\"_shards\":{\"total\":2,\"successful\":1,\"failed\":0},\"_seq_no\":22,\"_primary_term\":1,\"status\":201}},{\"index\":{\"_index\":\"notes\",\"_type\":\"_doc\",\"_id\":\"npIEIIkBdEg6yxurU0ah\",\"_version\":1,\"result\":\"created\",\"_shards\":{\"total\":2,\"successful\":1,\"failed\":0},\"_seq_no\":23,\"_primary_term\":1,\"status\":201}},{\"index\":{\"_index\":\"notes\",\"_type\":\"_doc\",\"_id\":\"n5IEIIkBdEg6yxurU0ah\",\"_version\":1,\"result\":\"created\",\"_shards\":{\"total\":2,\"successful\":1,\"failed\":0},\"_seq_no\":24,\"_primary_term\":1,\"status\":201}},{\"index\":{\"_index\":\"notes\",\"_type\":\"_doc\",\"_id\":\"oJIEIIkBdEg6yxurU0ah\",\"_version\":1,\"result\":\"created\",\"_shards\":{\"total\":2,\"successful\":1,\"failed\":0},\"_seq_no\":25,\"_primary_term\":1,\"status\":201}},{\"index\":{\"_index\":\"notes\",\"_type\":\"_doc\",\"_id\":\"oZIEIIkBdEg6yxurU0ah\",\"_version\":1,\"result\":\"created\",\"_shards\":{\"total\":2,\"successful\":1,\"failed\":0},\"_seq_no\":26,\"_primary_term\":1,\"status\":201}},{\"index\":{\"_index\":\"notes\",\"_type\":\"_doc\",\"_id\":\"opIEIIkBdEg6yxurU0ah\",\"_version\":1,\"result\":\"created\",\"_shards\":{\"total\":2,\"successful\":1,\"failed\":0},\"_seq_no\":27,\"_primary_term\":1,\"status\":201}},{\"index\":{\"_index\":\"notes\",\"_type\":\"_doc\",\"_id\":\"o5IEIIkBdEg6yxurU0ah\",\"_version\":1,\"result\":\"created\",\"_shards\":{\"total\":2,\"successful\":1,\"failed\":0},\"_seq_no\":28,\"_primary_term\":1,\"status\":201}},{\"index\":{\"_index\":\"notes\",\"_type\":\"_doc\",\"_id\":\"pJIEIIkBdEg6yxurU0ah\",\"_version\":1,\"result\":\"created\",\"_shards\":{\"total\":2,\"successful\":1,\"failed\":0},\"_seq_no\":29,\"_primary_term\":1,\"status\":201}},{\"index\":{\"_index\":\"notes\",\"_type\":\"_doc\",\"_id\":\"pZIEIIkBdEg6yxurU0ah\",\"_version\":1,\"result\":\"created\",\"_shards\":{\"total\":2,\"successful\":1,\"failed\":0},\"_seq_no\":30,\"_primary_term\":1,\"status\":201}},{\"index\":{\"_index\":\"notes\",\"_type\":\"_doc\",\"_id\":\"ppIEIIkBdEg6yxurU0ah\",\"_version\":1,\"result\":\"created\",\"_shards\":{\"total\":2,\"successful\":1,\"failed\":0},\"_seq_no\":31,\"_primary_term\":1,\"status\":201}},{\"index\":{\"_index\":\"notes\",\"_type\":\"_doc\",\"_id\":\"p5IEIIkBdEg6yxurU0ah\",\"_version\":1,\"result\":\"created\",\"_shards\":{\"total\":2,\"successful\":1,\"failed\":0},\"_seq_no\":32,\"_primary_term\":1,\"status\":201}},{\"index\":{\"_index\":\"notes\",\"_type\":\"_doc\",\"_id\":\"qJIEIIkBdEg6yxurU0ah\",\"_version\":1,\"result\":\"created\",\"_shards\":{\"total\":2,\"successful\":1,\"failed\":0},\"_seq_no\":33,\"_primary_term\":1,\"status\":201}},{\"index\":{\"_index\":\"notes\",\"_type\":\"_doc\",\"_id\":\"qZIEIIkBdEg6yxurU0ah\",\"_version\":1,\"result\":\"created\",\"_shards\":{\"total\":2,\"successful\":1,\"failed\":0},\"_seq_no\":34,\"_primary_term\":1,\"status\":201}},{\"index\":{\"_index\":\"notes\",\"_type\":\"_doc\",\"_id\":\"qpIEIIkBdEg6yxurU0ah\",\"_version\":1,\"result\":\"created\",\"_shards\":{\"total\":2,\"successful\":1,\"failed\":0},\"_seq_no\":35,\"_primary_term\":1,\"status\":201}},{\"index\":{\"_index\":\"notes\",\"_type\":\"_doc\",\"_id\":\"q5IEIIkBdEg6yxurU0ah\",\"_version\":1,\"result\":\"created\",\"_shards\":{\"total\":2,\"successful\":1,\"failed\":0},\"_seq_no\":36,\"_primary_term\":1,\"status\":201}},{\"index\":{\"_index\":\"notes\",\"_type\":\"_doc\",\"_id\":\"rJIEIIkBdEg6yxurU0ah\",\"_version\":1,\"result\":\"created\",\"_shards\":{\"total\":2,\"successful\":1,\"failed\":0},\"_seq_no\":37,\"_primary_term\":1,\"status\":201}},{\"index\":{\"_index\":\"notes\",\"_type\":\"_doc\",\"_id\":\"rZIEIIkBdEg6yxurU0ah\",\"_version\":1,\"result\":\"created\",\"_shards\":{\"total\":2,\"successful\":1,\"failed\":0},\"_seq_no\":38,\"_primary_term\":1,\"status\":201}},{\"index\":{\"_index\":\"notes\",\"_type\":\"_doc\",\"_id\":\"rpIEIIkBdEg6yxurU0ah\",\"_version\":1,\"result\":\"created\",\"_shards\":{\"total\":2,\"successful\":1,\"failed\":0},\"_seq_no\":39,\"_primary_term\":1,\"status\":201}},{\"index\":{\"_index\":\"notes\",\"_type\":\"_doc\",\"_id\":\"r5IEIIkBdEg6yxurU0ah\",\"_version\":1,\"result\":\"created\",\"_shards\":{\"total\":2,\"successful\":1,\"failed\":0},\"_seq_no\":40,\"_primary_term\":1,\"status\":201}},{\"index\":{\"_index\":\"notes\",\"_type\":\"_doc\",\"_id\":\"sJIEIIkBdEg6yxurU0ah\",\"_version\":1,\"result\":\"created\",\"_shards\":{\"total\":2,\"successful\":1,\"failed\":0},\"_seq_no\":41,\"_primary_term\":1,\"status\":201}},{\"index\":{\"_index\":\"notes\",\"_type\":\"_doc\",\"_id\":\"sZIEIIkBdEg6yxurU0ah\",\"_version\":1,\"result\":\"created\",\"_shards\":{\"total\":2,\"successful\":1,\"failed\":0},\"_seq_no\":42,\"_primary_term\":1,\"status\":201}},{\"index\":{\"_index\":\"notes\",\"_type\":\"_doc\",\"_id\":\"spIEIIkBdEg6yxurU0ah\",\"_version\":1,\"result\":\"created\",\"_shards\":{\"total\":2,\"successful\":1,\"failed\":0},\"_seq_no\":43,\"_primary_term\":1,\"status\":201}},{\"index\":{\"_index\":\"notes\",\"_type\":\"_doc\",\"_id\":\"s5IEIIkBdEg6yxurU0ah\",\"_version\":1,\"result\":\"created\",\"_shards\":{\"total\":2,\"successful\":1,\"failed\":0},\"_seq_no\":44,\"_primary_term\":1,\"status\":201}},{\"index\":{\"_index\":\"notes\",\"_type\":\"_doc\",\"_id\":\"tJIEIIkBdEg6yxurU0ah\",\"_version\":1,\"result\":\"created\",\"_shards\":{\"total\":2,\"successful\":1,\"failed\":0},\"_seq_no\":45,\"_primary_term\":1,\"status\":201}},{\"index\":{\"_index\":\"notes\",\"_type\":\"_doc\",\"_id\":\"tZIEIIkBdEg6yxurU0ah\",\"_version\":1,\"result\":\"created\",\"_shards\":{\"total\":2,\"successful\":1,\"failed\":0},\"_seq_no\":46,\"_primary_term\":1,\"status\":201}},{\"index\":{\"_index\":\"notes\",\"_type\":\"_doc\",\"_id\":\"tpIEIIkBdEg6yxurU0ah\",\"_version\":1,\"result\":\"created\",\"_shards\":{\"total\":2,\"successful\":1,\"failed\":0},\"_seq_no\":47,\"_primary_term\":1,\"status\":201}},{\"index\":{\"_index\":\"notes\",\"_type\":\"_doc\",\"_id\":\"t5IEIIkBdEg6yxurU0ai\",\"_version\":1,\"result\":\"created\",\"_shards\":{\"total\":2,\"successful\":1,\"failed\":0},\"_seq_no\":48,\"_primary_term\":1,\"status\":201}},{\"index\":{\"_index\":\"notes\",\"_type\":\"_doc\",\"_id\":\"uJIEIIkBdEg6yxurU0ai\",\"_version\":1,\"result\":\"created\",\"_shards\":{\"total\":2,\"successful\":1,\"failed\":0},\"_seq_no\":49,\"_primary_term\":1,\"status\":201}},{\"index\":{\"_index\":\"notes\",\"_type\":\"_doc\",\"_id\":\"uZIEIIkBdEg6yxurU0ai\",\"_version\":1,\"result\":\"created\",\"_shards\":{\"total\":2,\"successful\":1,\"failed\":0},\"_seq_no\":50,\"_primary_term\":1,\"status\":201}},{\"index\":{\"_index\":\"notes\",\"_type\":\"_doc\",\"_id\":\"upIEIIkBdEg6yxurU0ai\",\"_version\":1,\"result\":\"created\",\"_shards\":{\"total\":2,\"successful\":1,\"failed\":0},\"_seq_no\":51,\"_primary_term\":1,\"status\":201}},{\"index\":{\"_index\":\"notes\",\"_type\":\"_doc\",\"_id\":\"u5IEIIkBdEg6yxurU0ai\",\"_version\":1,\"result\":\"created\",\"_shards\":{\"total\":2,\"successful\":1,\"failed\":0},\"_seq_no\":52,\"_primary_term\":1,\"status\":201}},{\"index\":{\"_index\":\"notes\",\"_type\":\"_doc\",\"_id\":\"vJIEIIkBdEg6yxurU0ai\",\"_version\":1,\"result\":\"created\",\"_shards\":{\"total\":2,\"successful\":1,\"failed\":0},\"_seq_no\":53,\"_primary_term\":1,\"status\":201}},{\"index\":{\"_index\":\"notes\",\"_type\":\"_doc\",\"_id\":\"vZIEIIkBdEg6yxurU0ai\",\"_version\":1,\"result\":\"created\",\"_shards\":{\"total\":2,\"successful\":1,\"failed\":0},\"_seq_no\":54,\"_primary_term\":1,\"status\":201}},{\"index\":{\"_index\":\"notes\",\"_type\":\"_doc\",\"_id\":\"vpIEIIkBdEg6yxurU0ai\",\"_version\":1,\"result\":\"created\",\"_shards\":{\"total\":2,\"successful\":1,\"failed\":0},\"_seq_no\":55,\"_primary_term\":1,\"status\":201}},{\"index\":{\"_index\":\"notes\",\"_type\":\"_doc\",\"_id\":\"v5IEIIkBdEg6yxurU0ai\",\"_version\":1,\"result\":\"created\",\"_shards\":{\"total\":2,\"successful\":1,\"failed\":0},\"_seq_no\":56,\"_primary_term\":1,\"status\":201}},{\"index\":{\"_index\":\"notes\",\"_type\":\"_doc\",\"_id\":\"wJIEIIkBdEg6yxurU0ai\",\"_version\":1,\"result\":\"created\",\"_shards\":{\"total\":2,\"successful\":1,\"failed\":0},\"_seq_no\":57,\"_primary_term\":1,\"status\":201}},{\"index\":{\"_index\":\"notes\",\"_type\":\"_doc\",\"_id\":\"wZIEIIkBdEg6yxurU0ai\",\"_version\":1,\"result\":\"created\",\"_shards\":{\"total\":2,\"successful\":1,\"failed\":0},\"_seq_no\":58,\"_primary_term\":1,\"status\":201}},{\"index\":{\"_index\":\"notes\",\"_type\":\"_doc\",\"_id\":\"wpIEIIkBdEg6yxurU0ai\",\"_version\":1,\"result\":\"created\",\"_shards\":{\"total\":2,\"successful\":1,\"failed\":0},\"_seq_no\":59,\"_primary_term\":1,\"status\":201}},{\"index\":{\"_index\":\"notes\",\"_type\":\"_doc\",\"_id\":\"w5IEIIkBdEg6yxurU0ai\",\"_version\":1,\"result\":\"created\",\"_shards\":{\"total\":2,\"successful\":1,\"failed\":0},\"_seq_no\":60,\"_primary_term\":1,\"status\":201}},{\"index\":{\"_index\":\"notes\",\"_type\":\"_doc\",\"_id\":\"xJIEIIkBdEg6yxurU0ai\",\"_version\":1,\"result\":\"created\",\"_shards\":{\"total\":2,\"successful\":1,\"failed\":0},\"_seq_no\":61,\"_primary_term\":1,\"status\":201}},{\"index\":{\"_index\":\"notes\",\"_type\":\"_doc\",\"_id\":\"xZIEIIkBdEg6yxurU0ai\",\"_version\":1,\"result\":\"created\",\"_shards\":{\"total\":2,\"successful\":1,\"failed\":0},\"_seq_no\":62,\"_primary_term\":1,\"status\":201}},{\"index\":{\"_index\":\"notes\",\"_type\":\"_doc\",\"_id\":\"xpIEIIkBdEg6yxurU0ai\",\"_version\":1,\"result\":\"created\",\"_shards\":{\"total\":2,\"successful\":1,\"failed\":0},\"_seq_no\":63,\"_primary_term\":1,\"status\":201}},{\"index\":{\"_index\":\"notes\",\"_type\":\"_doc\",\"_id\":\"x5IEIIkBdEg6yxurU0ai\",\"_version\":1,\"result\":\"created\",\"_shards\":{\"total\":2,\"successful\":1,\"failed\":0},\"_seq_no\":64,\"_primary_term\":1,\"status\":201}},{\"index\":{\"_index\":\"notes\",\"_type\":\"_doc\",\"_id\":\"yJIEIIkBdEg6yxurU0ai\",\"_version\":1,\"result\":\"created\",\"_shards\":{\"total\":2,\"successful\":1,\"failed\":0},\"_seq_no\":65,\"_primary_term\":1,\"status\":201}},{\"index\":{\"_index\":\"notes\",\"_type\":\"_doc\",\"_id\":\"yZIEIIkBdEg6yxurU0ai\",\"_version\":1,\"result\":\"created\",\"_shards\":{\"total\":2,\"successful\":1,\"failed\":0},\"_seq_no\":66,\"_primary_term\":1,\"status\":201}},{\"index\":{\"_index\":\"notes\",\"_type\":\"_doc\",\"_id\":\"ypIEIIkBdEg6yxurU0ai\",\"_version\":1,\"result\":\"created\",\"_shards\":{\"total\":2,\"successful\":1,\"failed\":0},\"_seq_no\":67,\"_primary_term\":1,\"status\":201}},{\"index\":{\"_index\":\"notes\",\"_type\":\"_doc\",\"_id\":\"y5IEIIkBdEg6yxurU0ai\",\"_version\":1,\"result\":\"created\",\"_shards\":{\"total\":2,\"successful\":1,\"failed\":0},\"_seq_no\":68,\"_primary_term\":1,\"status\":201}},{\"index\":{\"_index\":\"notes\",\"_type\":\"_doc\",\"_id\":\"zJIEIIkBdEg6yxurU0ai\",\"_version\":1,\"result\":\"created\",\"_shards\":{\"total\":2,\"successful\":1,\"failed\":0},\"_seq_no\":69,\"_primary_term\":1,\"status\":201}},{\"index\":{\"_index\":\"notes\",\"_type\":\"_doc\",\"_id\":\"zZIEIIkBdEg6yxurU0ai\",\"_version\":1,\"result\":\"created\",\"_shards\":{\"total\":2,\"successful\":1,\"failed\":0},\"_seq_no\":70,\"_primary_term\":1,\"status\":201}},{\"index\":{\"_index\":\"notes\",\"_type\":\"_doc\",\"_id\":\"zpIEIIkBdEg6yxurU0ai\",\"_version\":1,\"result\":\"created\",\"_shards\":{\"total\":2,\"successful\":1,\"failed\":0},\"_seq_no\":71,\"_primary_term\":1,\"status\":201}},{\"index\":{\"_index\":\"notes\",\"_type\":\"_doc\",\"_id\":\"z5IEIIkBdEg6yxurU0ai\",\"_version\":1,\"result\":\"created\",\"_shards\":{\"total\":2,\"successful\":1,\"failed\":0},\"_seq_no\":72,\"_primary_term\":1,\"status\":201}},{\"index\":{\"_index\":\"notes\",\"_type\":\"_doc\",\"_id\":\"0JIEIIkBdEg6yxurU0ai\",\"_version\":1,\"result\":\"created\",\"_shards\":{\"total\":2,\"successful\":1,\"failed\":0},\"_seq_no\":73,\"_primary_term\":1,\"status\":201}},{\"index\":{\"_index\":\"notes\",\"_type\":\"_doc\",\"_id\":\"0ZIEIIkBdEg6yxurU0ai\",\"_version\":1,\"result\":\"created\",\"_shards\":{\"total\":2,\"successful\":1,\"failed\":0},\"_seq_no\":74,\"_primary_term\":1,\"status\":201}},{\"index\":{\"_index\":\"notes\",\"_type\":\"_doc\",\"_id\":\"0pIEIIkBdEg6yxurU0ai\",\"_version\":1,\"result\":\"created\",\"_shards\":{\"total\":2,\"successful\":1,\"failed\":0},\"_seq_no\":75,\"_primary_term\":1,\"status\":201}},{\"index\":{\"_index\":\"notes\",\"_type\":\"_doc\",\"_id\":\"05IEIIkBdEg6yxurU0ai\",\"_version\":1,\"result\":\"created\",\"_shards\":{\"total\":2,\"successful\":1,\"failed\":0},\"_seq_no\":76,\"_primary_term\":1,\"status\":201}},{\"index\":{\"_index\":\"notes\",\"_type\":\"_doc\",\"_id\":\"1JIEIIkBdEg6yxurU0ai\",\"_version\":1,\"result\":\"created\",\"_shards\":{\"total\":2,\"successful\":1,\"failed\":0},\"_seq_no\":77,\"_primary_term\":1,\"status\":201}},{\"index\":{\"_index\":\"notes\",\"_type\":\"_doc\",\"_id\":\"1ZIEIIkBdEg6yxurU0ai\",\"_version\":1,\"result\":\"created\",\"_shards\":{\"total\":2,\"successful\":1,\"failed\":0},\"_seq_no\":78,\"_primary_term\":1,\"status\":201}},{\"index\":{\"_index\":\"notes\",\"_type\":\"_doc\",\"_id\":\"1pIEIIkBdEg6yxurU0ai\",\"_version\":1,\"result\":\"created\",\"_shards\":{\"total\":2,\"successful\":1,\"failed\":0},\"_seq_no\":79,\"_primary_term\":1,\"status\":201}},{\"index\":{\"_index\":\"notes\",\"_type\":\"_doc\",\"_id\":\"15IEIIkBdEg6yxurU0ai\",\"_version\":1,\"result\":\"created\",\"_shards\":{\"total\":2,\"successful\":1,\"failed\":0},\"_seq_no\":80,\"_primary_term\":1,\"status\":201}},{\"index\":{\"_index\":\"notes\",\"_type\":\"_doc\",\"_id\":\"2JIEIIkBdEg6yxurU0ai\",\"_version\":1,\"result\":\"created\",\"_shards\":{\"total\":2,\"successful\":1,\"failed\":0},\"_seq_no\":81,\"_primary_term\":1,\"status\":201}},{\"index\":{\"_index\":\"notes\",\"_type\":\"_doc\",\"_id\":\"2ZIEIIkBdEg6yxurU0ai\",\"_version\":1,\"result\":\"created\",\"_shards\":{\"total\":2,\"successful\":1,\"failed\":0},\"_seq_no\":82,\"_primary_term\":1,\"status\":201}},{\"index\":{\"_index\":\"notes\",\"_type\":\"_doc\",\"_id\":\"2pIEIIkBdEg6yxurU0ai\",\"_version\":1,\"result\":\"created\",\"_shards\":{\"total\":2,\"successful\":1,\"failed\":0},\"_seq_no\":83,\"_primary_term\":1,\"status\":201}},{\"index\":{\"_index\":\"notes\",\"_type\":\"_doc\",\"_id\":\"25IEIIkBdEg6yxurU0ai\",\"_version\":1,\"result\":\"created\",\"_shards\":{\"total\":2,\"successful\":1,\"failed\":0},\"_seq_no\":84,\"_primary_term\":1,\"status\":201}},{\"index\":{\"_index\":\"notes\",\"_type\":\"_doc\",\"_id\":\"3JIEIIkBdEg6yxurU0ai\",\"_version\":1,\"result\":\"created\",\"_shards\":{\"total\":2,\"successful\":1,\"failed\":0},\"_seq_no\":85,\"_primary_term\":1,\"status\":201}},{\"index\":{\"_index\":\"notes\",\"_type\":\"_doc\",\"_id\":\"3ZIEIIkBdEg6yxurU0ai\",\"_version\":1,\"result\":\"created\",\"_shards\":{\"total\":2,\"successful\":1,\"failed\":0},\"_seq_no\":86,\"_primary_term\":1,\"status\":201}},{\"index\":{\"_index\":\"notes\",\"_type\":\"_doc\",\"_id\":\"3pIEIIkBdEg6yxurU0ai\",\"_version\":1,\"result\":\"created\",\"_shards\":{\"total\":2,\"successful\":1,\"failed\":0},\"_seq_no\":87,\"_primary_term\":1,\"status\":201}},{\"index\":{\"_index\":\"notes\",\"_type\":\"_doc\",\"_id\":\"35IEIIkBdEg6yxurU0ai\",\"_version\":1,\"result\":\"created\",\"_shards\":{\"total\":2,\"successful\":1,\"failed\":0},\"_seq_no\":88,\"_primary_term\":1,\"status\":201}},{\"index\":{\"_index\":\"notes\",\"_type\":\"_doc\",\"_id\":\"4JIEIIkBdEg6yxurU0ai\",\"_version\":1,\"result\":\"created\",\"_shards\":{\"total\":2,\"successful\":1,\"failed\":0},\"_seq_no\":89,\"_primary_term\":1,\"status\":201}},{\"index\":{\"_index\":\"notes\",\"_type\":\"_doc\",\"_id\":\"4ZIEIIkBdEg6yxurU0ai\",\"_version\":1,\"result\":\"created\",\"_shards\":{\"total\":2,\"successful\":1,\"failed\":0},\"_seq_no\":90,\"_primary_term\":1,\"status\":201}},{\"index\":{\"_index\":\"notes\",\"_type\":\"_doc\",\"_id\":\"4pIEIIkBdEg6yxurU0ai\",\"_version\":1,\"result\":\"created\",\"_shards\":{\"total\":2,\"successful\":1,\"failed\":0},\"_seq_no\":91,\"_primary_term\":1,\"status\":201}},{\"index\":{\"_index\":\"notes\",\"_type\":\"_doc\",\"_id\":\"45IEIIkBdEg6yxurU0ai\",\"_version\":1,\"result\":\"created\",\"_shards\":{\"total\":2,\"successful\":1,\"failed\":0},\"_seq_no\":92,\"_primary_term\":1,\"status\":201}},{\"index\":{\"_index\":\"notes\",\"_type\":\"_doc\",\"_id\":\"5JIEIIkBdEg6yxurU0ai\",\"_version\":1,\"result\":\"created\",\"_shards\":{\"total\":2,\"successful\":1,\"failed\":0},\"_seq_no\":93,\"_primary_term\":1,\"status\":201}},{\"index\":{\"_index\":\"notes\",\"_type\":\"_doc\",\"_id\":\"5ZIEIIkBdEg6yxurU0ai\",\"_version\":1,\"result\":\"created\",\"_shards\":{\"total\":2,\"successful\":1,\"failed\":0},\"_seq_no\":94,\"_primary_term\":1,\"status\":201}},{\"index\":{\"_index\":\"notes\",\"_type\":\"_doc\",\"_id\":\"5pIEIIkBdEg6yxurU0ai\",\"_version\":1,\"result\":\"created\",\"_shards\":{\"total\":2,\"successful\":1,\"failed\":0},\"_seq_no\":95,\"_primary_term\":1,\"status\":201}},{\"index\":{\"_index\":\"notes\",\"_type\":\"_doc\",\"_id\":\"55IEIIkBdEg6yxurU0ai\",\"_version\":1,\"result\":\"created\",\"_shards\":{\"total\":2,\"successful\":1,\"failed\":0},\"_seq_no\":96,\"_primary_term\":1,\"status\":201}},{\"index\":{\"_index\":\"notes\",\"_type\":\"_doc\",\"_id\":\"6JIEIIkBdEg6yxurU0ai\",\"_version\":1,\"result\":\"created\",\"_shards\":{\"total\":2,\"successful\":1,\"failed\":0},\"_seq_no\":97,\"_primary_term\":1,\"status\":201}},{\"index\":{\"_index\":\"notes\",\"_type\":\"_doc\",\"_id\":\"6ZIEIIkBdEg6yxurU0ai\",\"_version\":1,\"result\":\"created\",\"_shards\":{\"total\":2,\"successful\":1,\"failed\":0},\"_seq_no\":98,\"_primary_term\":1,\"status\":201}},{\"index\":{\"_index\":\"notes\",\"_type\":\"_doc\",\"_id\":\"6pIEIIkBdEg6yxurU0ai\",\"_version\":1,\"result\":\"created\",\"_shards\":{\"total\":2,\"successful\":1,\"failed\":0},\"_seq_no\":99,\"_primary_term\":1,\"status\":201}}]}\n"
     ]
    }
   ],
   "source": [
    "# import requests\n",
    "# import json\n",
    "# from faker import Faker\n",
    "\n",
    "# url = 'http://localhost:9200/notes/_bulk'\n",
    "# headers = {'Content-Type': 'application/x-ndjson'}\n",
    "\n",
    "# faker = Faker()\n",
    "\n",
    "# data = ''\n",
    "# for _ in range(100):\n",
    "#     patient_lastname = faker.last_name()\n",
    "#     patient_firstname = faker.first_name()\n",
    "#     text = faker.text()\n",
    "#     date = faker.date()\n",
    "#     patient_left = faker.boolean()\n",
    "#     emotion = faker.word()\n",
    "#     confidence = faker.pyfloat(left_digits=1, right_digits=2, positive=True)\n",
    "\n",
    "#     index = {\"index\": {}}\n",
    "#     doc = {\n",
    "#         \"patient_lastname\": patient_lastname,\n",
    "#         \"patient_firstname\": patient_firstname,\n",
    "#         \"text\": text,\n",
    "#         \"date\": date,\n",
    "#         \"patient_left\": patient_left,\n",
    "#         \"emotion\": emotion,\n",
    "#         \"confidence\": confidence\n",
    "#     }\n",
    "\n",
    "#     data += json.dumps(index) + '\\n'\n",
    "#     data += json.dumps(doc) + '\\n'\n",
    "\n",
    "# response = requests.post(url, headers=headers, data=data)\n",
    "# print(response.text)\n"
   ]
  },
  {
   "cell_type": "code",
   "execution_count": 2,
   "metadata": {},
   "outputs": [
    {
     "name": "stdout",
     "output_type": "stream",
     "text": [
      "{\"took\":4,\"timed_out\":false,\"_shards\":{\"total\":1,\"successful\":1,\"skipped\":0,\"failed\":0},\"hits\":{\"total\":{\"value\":100,\"relation\":\"eq\"},\"max_score\":1.0,\"hits\":[{\"_index\":\"notes\",\"_type\":\"_doc\",\"_id\":\"h5IEIIkBdEg6yxurU0ah\",\"_score\":1.0,\"_source\":{\"patient_lastname\": \"Chambers\", \"patient_firstname\": \"Adrian\", \"text\": \"Source decide game player dog owner often. Tree increase particularly arrive friend stay.\\nSituation Congress Democrat stand. Cold he Mr.\", \"date\": \"2008-09-07\", \"patient_left\": true, \"emotion\": \"break\", \"confidence\": 5.53}},{\"_index\":\"notes\",\"_type\":\"_doc\",\"_id\":\"iJIEIIkBdEg6yxurU0ah\",\"_score\":1.0,\"_source\":{\"patient_lastname\": \"Davis\", \"patient_firstname\": \"Gary\", \"text\": \"Democrat factor number card people value daughter. Win product both reveal leg he fall. Kid agree through newspaper boy senior theory light.\", \"date\": \"2007-01-24\", \"patient_left\": true, \"emotion\": \"add\", \"confidence\": 0.19}},{\"_index\":\"notes\",\"_type\":\"_doc\",\"_id\":\"iZIEIIkBdEg6yxurU0ah\",\"_score\":1.0,\"_source\":{\"patient_lastname\": \"Bailey\", \"patient_firstname\": \"Lisa\", \"text\": \"Degree ball number dog sit high build. Effort I name I guess natural participant. Line worry TV hundred young.\", \"date\": \"1998-10-19\", \"patient_left\": false, \"emotion\": \"skill\", \"confidence\": 8.61}},{\"_index\":\"notes\",\"_type\":\"_doc\",\"_id\":\"ipIEIIkBdEg6yxurU0ah\",\"_score\":1.0,\"_source\":{\"patient_lastname\": \"Peters\", \"patient_firstname\": \"Thomas\", \"text\": \"Along worker finally board. Nation world much again low day. Detail military nice know media bar.\\nTrial nothing woman specific. Fund institution night responsibility or.\", \"date\": \"2002-07-24\", \"patient_left\": false, \"emotion\": \"example\", \"confidence\": 3.58}},{\"_index\":\"notes\",\"_type\":\"_doc\",\"_id\":\"i5IEIIkBdEg6yxurU0ah\",\"_score\":1.0,\"_source\":{\"patient_lastname\": \"Ryan\", \"patient_firstname\": \"Deborah\", \"text\": \"Baby yes treatment use pattern establish law. Free pretty parent exist blood man. Computer friend often.\\nWall development blood. Offer risk player.\", \"date\": \"2007-09-21\", \"patient_left\": true, \"emotion\": \"improve\", \"confidence\": 2.43}},{\"_index\":\"notes\",\"_type\":\"_doc\",\"_id\":\"jJIEIIkBdEg6yxurU0ah\",\"_score\":1.0,\"_source\":{\"patient_lastname\": \"Gardner\", \"patient_firstname\": \"Samantha\", \"text\": \"Likely sometimes one free. Business ground poor although financial.\\nSurface data think account trade. Nice because often. Many language environmental apply serve office international.\", \"date\": \"1994-02-08\", \"patient_left\": false, \"emotion\": \"many\", \"confidence\": 2.74}},{\"_index\":\"notes\",\"_type\":\"_doc\",\"_id\":\"jZIEIIkBdEg6yxurU0ah\",\"_score\":1.0,\"_source\":{\"patient_lastname\": \"Alvarado\", \"patient_firstname\": \"William\", \"text\": \"Gun wear tax work population summer fill. Lay his soldier leader trouble. Program adult concern away peace local.\\nLead figure occur mean kind care. Air include as moment.\", \"date\": \"2000-12-31\", \"patient_left\": false, \"emotion\": \"professional\", \"confidence\": 5.18}},{\"_index\":\"notes\",\"_type\":\"_doc\",\"_id\":\"jpIEIIkBdEg6yxurU0ah\",\"_score\":1.0,\"_source\":{\"patient_lastname\": \"Rivera\", \"patient_firstname\": \"Charles\", \"text\": \"Especially whether behavior low able. Class available bag seek.\\nAlmost husband culture in prove soldier. Them little firm black.\", \"date\": \"2014-08-23\", \"patient_left\": false, \"emotion\": \"within\", \"confidence\": 9.99}},{\"_index\":\"notes\",\"_type\":\"_doc\",\"_id\":\"j5IEIIkBdEg6yxurU0ah\",\"_score\":1.0,\"_source\":{\"patient_lastname\": \"Martinez\", \"patient_firstname\": \"Helen\", \"text\": \"Wonder religious stop its sister recently. Official try free evening during. Save policy building provide pressure worry single trade.\\nEvery interesting agree owner involve degree seek.\", \"date\": \"1988-05-24\", \"patient_left\": false, \"emotion\": \"than\", \"confidence\": 4.45}},{\"_index\":\"notes\",\"_type\":\"_doc\",\"_id\":\"kJIEIIkBdEg6yxurU0ah\",\"_score\":1.0,\"_source\":{\"patient_lastname\": \"Hall\", \"patient_firstname\": \"Michael\", \"text\": \"Deep must certainly son rise pull unit. Resource present fine.\\nAgo fine probably book. By without technology low just may never.\", \"date\": \"2016-08-02\", \"patient_left\": false, \"emotion\": \"economy\", \"confidence\": 2.63}}]}}\n"
     ]
    }
   ],
   "source": [
    "import requests\n",
    "import json\n",
    "\n",
    "url = 'http://localhost:9200/notes/_search'\n",
    "headers = {'Content-Type': 'application/json'}\n",
    "\n",
    "query = {\n",
    "    \"query\": {\n",
    "        \"match_all\": {}\n",
    "    }\n",
    "}\n",
    "\n",
    "response = requests.get(url, headers=headers, data=json.dumps(query))\n",
    "print(response.text)\n"
   ]
  },
  {
   "cell_type": "code",
   "execution_count": 4,
   "metadata": {},
   "outputs": [
    {
     "name": "stdout",
     "output_type": "stream",
     "text": [
      "['000' '12' '1997' ... 'zum' 'zumba' 'zzap']\n",
      "[[0. 0. 0. ... 0. 0. 0.]\n",
      " [0. 0. 0. ... 0. 0. 0.]\n",
      " [0. 0. 0. ... 0. 0. 0.]\n",
      " ...\n",
      " [0. 0. 0. ... 0. 0. 0.]\n",
      " [0. 0. 0. ... 0. 0. 0.]\n",
      " [0. 0. 0. ... 0. 0. 0.]]\n"
     ]
    }
   ],
   "source": [
    "import spacy\n",
    "from sklearn.feature_extraction.text import CountVectorizer, TfidfVectorizer\n",
    "df = pd.read_csv(\"Emotion_final.csv\")\n",
    "\n",
    "nlp = spacy.load(\"en_core_web_sm\")\n",
    "\n",
    "def preprocess(text):\n",
    "    doc = nlp(text)\n",
    "    tokens = [token.lemma_ for token in doc]\n",
    "    filtered_tokens = [token for token in tokens if not (nlp.vocab[token].is_punct or nlp.vocab[token].is_stop or len(token) < 3 or token.isnumeric() or token.isspace() or token.lower() in {'feel', 'feeling','feelings', 'like','im','really', 'today','didnt','go', 'know', 'get', 'want', 'would', 'time', 'little', 'ive', 'still', 'even', 'one',  'people', 'think', 'bit', 'things', 'much', 'dont', 'make', 'day', 'something', 'back', 'going', 'way', 'could'})]    \n",
    "    return ' '.join(filtered_tokens)\n",
    "\n",
    "corpus = df['Text'].tolist()\n",
    "corpus = [preprocess(text) for text in corpus]\n",
    "\n",
    "# TF-IDF\n",
    "vectorizer = TfidfVectorizer()\n",
    "X = vectorizer.fit_transform(corpus)\n",
    "print(vectorizer.get_feature_names_out())\n",
    "print(X.toarray())"
   ]
  },
  {
   "cell_type": "code",
   "execution_count": 5,
   "metadata": {},
   "outputs": [
    {
     "name": "stdout",
     "output_type": "stream",
     "text": [
      "Accuracy: 0.86\n"
     ]
    }
   ],
   "source": [
    "from sklearn.ensemble import RandomForestClassifier\n",
    "from sklearn.model_selection import train_test_split\n",
    "from sklearn.metrics import accuracy_score\n",
    "from sklearn.preprocessing import LabelEncoder\n",
    "\n",
    "\n",
    "y = df['Emotion'].values\n",
    "\n",
    "# Encode labels\n",
    "le = LabelEncoder()\n",
    "y = le.fit_transform(y)\n",
    "\n",
    "X_train, X_test, y_train, y_test = train_test_split(X, y, test_size=0.2)\n",
    "\n",
    "clf = RandomForestClassifier()\n",
    "clf.fit(X_train, y_train)\n",
    "\n",
    "y_pred = clf.predict(X_test)\n",
    "accuracy = accuracy_score(y_test, y_pred)\n",
    "print(f\"Accuracy: {accuracy:.2f}\")"
   ]
  },
  {
   "cell_type": "code",
   "execution_count": 13,
   "metadata": {},
   "outputs": [
    {
     "name": "stderr",
     "output_type": "stream",
     "text": [
      "C:\\Users\\impej\\AppData\\Local\\Temp\\ipykernel_9752\\4233235036.py:35: DeprecationWarning: The 'body' parameter is deprecated and will be removed in a future version. Instead use the 'document' parameter. See https://github.com/elastic/elasticsearch-py/issues/1698 for more information\n",
      "  es.index(index='notes', body=doc)\n",
      "C:\\Users\\impej\\AppData\\Local\\Temp\\ipykernel_9752\\4233235036.py:35: ElasticsearchWarning: Elasticsearch built-in security features are not enabled. Without authentication, your cluster could be accessible to anyone. See https://www.elastic.co/guide/en/elasticsearch/reference/7.17/security-minimal-setup.html to enable security.\n",
      "  es.index(index='notes', body=doc)\n"
     ]
    }
   ],
   "source": [
    "from elasticsearch import Elasticsearch\n",
    "from faker import Faker\n",
    "\n",
    "faker = Faker()\n",
    "\n",
    "# Prédictions de probabilité pour chaque texte\n",
    "proba = clf.predict_proba(X)\n",
    "\n",
    "# Récupération des étiquettes de classe\n",
    "class_labels = le.inverse_transform(clf.classes_)\n",
    "\n",
    "# Remplissage des colonnes \"emotion\" et \"confidence\"\n",
    "df['emotion'] = [class_labels[np.argmax(p)] for p in proba]\n",
    "df['confidence'] = [np.max(p) for p in proba]\n",
    "\n",
    "# Connexion à Elasticsearch\n",
    "es = Elasticsearch(hosts=['http://localhost:9200'])\n",
    "\n",
    "# Indexation des données dans Elasticsearch\n",
    "for _, row in df.iterrows():\n",
    "    patient_lastname = faker.last_name()\n",
    "    patient_firstname = faker.first_name()\n",
    "    date = faker.date()\n",
    "    patient_left = faker.boolean()\n",
    "    \n",
    "    doc = {\n",
    "        'patient_lastname': patient_lastname,\n",
    "        'patient_firstname': patient_firstname,\n",
    "        'text': row['Text'],\n",
    "        'date': date,\n",
    "        'patient_left': patient_left,\n",
    "        'emotion': row['emotion'],\n",
    "        'confidence': row['confidence']\n",
    "    }\n",
    "    es.index(index='notes', body=doc)\n"
   ]
  },
  {
   "cell_type": "code",
   "execution_count": 14,
   "metadata": {},
   "outputs": [
    {
     "name": "stderr",
     "output_type": "stream",
     "text": [
      "C:\\Users\\impej\\AppData\\Local\\Temp\\ipykernel_9752\\1124562407.py:16: DeprecationWarning: The 'body' parameter is deprecated and will be removed in a future version. Instead use individual parameters.\n",
      "  res = es.search(index='notes', body=query)\n"
     ]
    },
    {
     "name": "stdout",
     "output_type": "stream",
     "text": [
      "{'patient_lastname': 'Reyes', 'patient_firstname': 'Brittney', 'text': 'i have been with petronas for years i feel that petronas has performed well and made a huge profit', 'date': '2020-06-22', 'patient_left': True, 'emotion': 'happy', 'confidence': 0.7171750434783539}\n",
      "{'patient_lastname': 'Strickland', 'patient_firstname': 'Andrew', 'text': 'i do feel that running is a divine experience and that i can expect to have some type of spiritual encounter', 'date': '1997-12-16', 'patient_left': False, 'emotion': 'happy', 'confidence': 0.99}\n",
      "{'patient_lastname': 'Werner', 'patient_firstname': 'Patrick', 'text': 'i have immense sympathy with the general point but as a possible proto writer trying to find time to write in the corners of life and with no sign of an agent let alone a publishing contract this feels a little precious', 'date': '2000-07-21', 'patient_left': True, 'emotion': 'happy', 'confidence': 0.94}\n",
      "{'patient_lastname': 'Baldwin', 'patient_firstname': 'Alicia', 'text': 'i do not feel reassured anxiety is on each side', 'date': '1986-06-04', 'patient_left': True, 'emotion': 'happy', 'confidence': 0.96}\n",
      "{'patient_lastname': 'Figueroa', 'patient_firstname': 'Jacob', 'text': 'i have the feeling she was amused and delighted', 'date': '1986-11-16', 'patient_left': True, 'emotion': 'happy', 'confidence': 1.0}\n",
      "{'patient_lastname': 'Oliver', 'patient_firstname': 'Cheryl', 'text': 'i was able to help chai lifeline with your support and encouragement is a great feeling and i am so glad you were able to help me', 'date': '2008-04-25', 'patient_left': False, 'emotion': 'happy', 'confidence': 0.9433333333333332}\n",
      "{'patient_lastname': 'Welch', 'patient_firstname': 'William', 'text': 'i feel more superior dead chicken or grieving child', 'date': '1990-10-11', 'patient_left': False, 'emotion': 'happy', 'confidence': 0.98}\n",
      "{'patient_lastname': 'Petersen', 'patient_firstname': 'Debbie', 'text': 'i get giddy over feeling elegant in a perfectly fitted pencil skirt', 'date': '1993-02-24', 'patient_left': True, 'emotion': 'happy', 'confidence': 0.9488849948762992}\n",
      "{'patient_lastname': 'Anderson', 'patient_firstname': 'Patrick', 'text': 'i can t imagine a real life scenario where i would be emotionally connected enough with someone to feel totally accepted and safe where it it morally acceptable for me to have close and prolonged physical contact and where sex won t be expected subsequently', 'date': '1999-09-05', 'patient_left': False, 'emotion': 'happy', 'confidence': 0.96}\n",
      "{'patient_lastname': 'Valentine', 'patient_firstname': 'Patrick', 'text': 'i am not sure what would make me feel content if anything', 'date': '2000-05-25', 'patient_left': False, 'emotion': 'happy', 'confidence': 0.99}\n"
     ]
    },
    {
     "name": "stderr",
     "output_type": "stream",
     "text": [
      "C:\\Users\\impej\\AppData\\Local\\Temp\\ipykernel_9752\\1124562407.py:16: ElasticsearchWarning: Elasticsearch built-in security features are not enabled. Without authentication, your cluster could be accessible to anyone. See https://www.elastic.co/guide/en/elasticsearch/reference/7.17/security-minimal-setup.html to enable security.\n",
      "  res = es.search(index='notes', body=query)\n"
     ]
    }
   ],
   "source": [
    "from elasticsearch import Elasticsearch\n",
    "\n",
    "# Connexion à Elasticsearch\n",
    "es = Elasticsearch(hosts=['http://localhost:9200'])\n",
    "\n",
    "# Requête de recherche pour récupérer tous les documents\n",
    "query = {\n",
    "    \"query\": {\n",
    "        \"match\": {\n",
    "            \"emotion\": \"happy\"\n",
    "        }\n",
    "    }\n",
    "}\n",
    "\n",
    "# Exécution de la requête de recherche\n",
    "res = es.search(index='notes', body=query)\n",
    "\n",
    "# Récupération des résultats\n",
    "hits = res['hits']['hits']\n",
    "\n",
    "# Affichage des résultats\n",
    "for hit in hits:\n",
    "    print(hit['_source'])\n"
   ]
  },
  {
   "cell_type": "markdown",
   "metadata": {},
   "source": [
    "# effacement"
   ]
  },
  {
   "cell_type": "code",
   "execution_count": 12,
   "metadata": {},
   "outputs": [
    {
     "name": "stdout",
     "output_type": "stream",
     "text": [
      "Les documents ont été supprimés avec succès.\n"
     ]
    }
   ],
   "source": [
    "# import requests\n",
    "\n",
    "# index = 'notes'  # Remplacez par le nom de votre index\n",
    "\n",
    "# # URL de l'API de suppression des documents\n",
    "# url = f'http://localhost:9200/{index}/_delete_by_query'\n",
    "\n",
    "# # Corps de la requête de suppression\n",
    "# query = {\n",
    "#     \"query\": {\n",
    "#         \"match_all\": {}\n",
    "#     }\n",
    "# }\n",
    "\n",
    "# # Envoyer la requête de suppression\n",
    "# response = requests.post(url, json=query)\n",
    "\n",
    "# # Vérifier la réponse\n",
    "# if response.status_code == 200:\n",
    "#     print(\"Les documents ont été supprimés avec succès.\")\n",
    "# else:\n",
    "#     print(\"Une erreur s'est produite lors de la suppression des documents.\")\n",
    "#     print(response.text)"
   ]
  },
  {
   "attachments": {},
   "cell_type": "markdown",
   "metadata": {},
   "source": [
    " ## En recherchant dans la base elastic search, aboutissez à un data frame permettant d’afficher la répartition des sentiments des textes pour un patient (nom/prénom)"
   ]
  },
  {
   "cell_type": "code",
   "execution_count": 15,
   "metadata": {},
   "outputs": [
    {
     "name": "stderr",
     "output_type": "stream",
     "text": [
      "C:\\Users\\impej\\AppData\\Local\\Temp\\ipykernel_9752\\671719386.py:24: DeprecationWarning: The 'body' parameter is deprecated and will be removed in a future version. Instead use individual parameters.\n",
      "  res = es.search(index='notes', body=query)\n"
     ]
    },
    {
     "name": "stdout",
     "output_type": "stream",
     "text": [
      "happy    1.0\n",
      "Name: emotion, dtype: float64\n"
     ]
    },
    {
     "name": "stderr",
     "output_type": "stream",
     "text": [
      "C:\\Users\\impej\\AppData\\Local\\Temp\\ipykernel_9752\\671719386.py:24: ElasticsearchWarning: Elasticsearch built-in security features are not enabled. Without authentication, your cluster could be accessible to anyone. See https://www.elastic.co/guide/en/elasticsearch/reference/7.17/security-minimal-setup.html to enable security.\n",
      "  res = es.search(index='notes', body=query)\n"
     ]
    }
   ],
   "source": [
    "from elasticsearch import Elasticsearch\n",
    "import pandas as pd\n",
    "\n",
    "# Connexion à Elasticsearch\n",
    "es = Elasticsearch(hosts=['http://localhost:9200'])\n",
    "\n",
    "# Nom et prénom du patient\n",
    "patient_lastname = 'Reyes'\n",
    "patient_firstname = 'Brittney'\n",
    "\n",
    "# Requête de recherche pour récupérer les documents correspondant au patient\n",
    "query = {\n",
    "    \"query\": {\n",
    "        \"bool\": {\n",
    "            \"must\": [\n",
    "                {\"match\": {\"patient_lastname\": patient_lastname}},\n",
    "                {\"match\": {\"patient_firstname\": patient_firstname}}\n",
    "            ]\n",
    "        }\n",
    "    }\n",
    "}\n",
    "\n",
    "# Exécution de la requête de recherche\n",
    "res = es.search(index='notes', body=query)\n",
    "\n",
    "# Récupération des résultats\n",
    "hits = res['hits']['hits']\n",
    "\n",
    "# Création d'un DataFrame à partir des résultats\n",
    "data = [hit['_source'] for hit in hits]\n",
    "df = pd.DataFrame(data)\n",
    "\n",
    "# Calcul de la répartition des sentiments\n",
    "sentiment_counts = df['emotion'].value_counts(normalize=True)\n",
    "\n",
    "# Affichage des résultats\n",
    "print(sentiment_counts)\n"
   ]
  },
  {
   "attachments": {},
   "cell_type": "markdown",
   "metadata": {},
   "source": [
    "####  Élaborez une matrice de sentiments contradictoire (toujours en utilisant la base elastic search.\n",
    "#### On veut savoir parmi les documents classifiés comme happy, quel pourcentage contient le mot “sadness”. Puis quel pourcentage contient “fear” …\n",
    "#### Et cela pour tous les sentiment.\n",
    "#### On représente les résultats dans une HeatMap\n"
   ]
  },
  {
   "cell_type": "code",
   "execution_count": 29,
   "metadata": {},
   "outputs": [
    {
     "name": "stderr",
     "output_type": "stream",
     "text": [
      "C:\\Users\\impej\\AppData\\Local\\Temp\\ipykernel_9752\\2979511391.py:26: DeprecationWarning: The 'body' parameter is deprecated and will be removed in a future version. Instead use individual parameters.\n",
      "  res = es.search(index='notes', body=query)\n",
      "C:\\Users\\impej\\AppData\\Local\\Temp\\ipykernel_9752\\2979511391.py:26: ElasticsearchWarning: Elasticsearch built-in security features are not enabled. Without authentication, your cluster could be accessible to anyone. See https://www.elastic.co/guide/en/elasticsearch/reference/7.17/security-minimal-setup.html to enable security.\n",
      "  res = es.search(index='notes', body=query)\n"
     ]
    },
    {
     "data": {
      "text/plain": [
       "<AxesSubplot: >"
      ]
     },
     "execution_count": 29,
     "metadata": {},
     "output_type": "execute_result"
    },
    {
     "data": {
      "image/png": "[encoded data removed]",
      "text/plain": [
       "<Figure size 640x480 with 2 Axes>"
      ]
     },
     "metadata": {},
     "output_type": "display_data"
    }
   ],
   "source": [
    "from elasticsearch import Elasticsearch\n",
    "import pandas as pd\n",
    "import seaborn as sns\n",
    "\n",
    "# Connexion à Elasticsearch\n",
    "es = Elasticsearch(hosts=['http://localhost:9200'])\n",
    "\n",
    "# Liste des sentiments à inclure dans la matrice\n",
    "sentiments = ['happy', 'sadness', 'fear', 'anger', 'love', 'surprise']\n",
    "\n",
    "# Initialisation de la matrice des pourcentages\n",
    "matrix = pd.DataFrame(0, index=sentiments, columns=sentiments)\n",
    "\n",
    "# Pour chaque sentiment dans la liste\n",
    "for sentiment in sentiments:\n",
    "    # Requête de recherche pour récupérer les documents correspondant au sentiment\n",
    "    query = {\n",
    "        \"query\": {\n",
    "            \"match\": {\n",
    "                \"emotion\": sentiment\n",
    "            }\n",
    "        }\n",
    "    }\n",
    "\n",
    "    # Exécution de la requête de recherche\n",
    "    res = es.search(index='notes', body=query)\n",
    "\n",
    "    # Récupération des résultats\n",
    "    hits = res['hits']['hits']\n",
    "    \n",
    "    # Nombre total de documents retournés par la recherche\n",
    "    total_count = len(hits)\n",
    "    \n",
    "    # Si aucun document n'a été retourné, passez au sentiment suivant\n",
    "    if total_count == 0:\n",
    "        continue\n",
    "\n",
    "    # Pour chaque mot dans la liste des sentiments\n",
    "    for word in sentiments:\n",
    "        # Compteur du nombre de documents contenant le mot\n",
    "        word_count = 0\n",
    "        \n",
    "        # Pour chaque document retourné par la recherche\n",
    "        for hit in hits:\n",
    "            # Récupération du texte du document\n",
    "            text = hit['_source']['text']\n",
    "            \n",
    "            # Si le texte contient le mot, incrémentez le compteur\n",
    "            if word in text:\n",
    "                word_count += 1\n",
    "        \n",
    "        # Calcul du pourcentage de documents contenant le mot\n",
    "        percentage = word_count / total_count\n",
    "        \n",
    "        # Mise à jour de la matrice des pourcentages\n",
    "        matrix.loc[sentiment, word] = percentage\n",
    "\n",
    "# Conversion des valeurs en pourcentage\n",
    "matrix *= 100\n",
    "\n",
    "# Affichage de la HeatMap avec les pourcentages\n",
    "sns.heatmap(matrix, annot=True, fmt='.1f', cmap='YlGnBu')\n"
   ]
  },
  {
   "cell_type": "code",
   "execution_count": null,
   "metadata": {},
   "outputs": [],
   "source": []
  },
  {
   "attachments": {},
   "cell_type": "markdown",
   "metadata": {},
   "source": [
    "### Pour chacune des étapes du deuil (denial, anger, bargaining, depression, and acceptance) rechercher le nombre de text correspondants à l’aide:\n",
    "###         - d’une recherche pleine\n",
    "###         - d’une fuzzy recherche."
   ]
  },
  {
   "cell_type": "code",
   "execution_count": 18,
   "metadata": {},
   "outputs": [
    {
     "name": "stderr",
     "output_type": "stream",
     "text": [
      "C:\\Users\\impej\\AppData\\Local\\Temp\\ipykernel_9752\\2329163694.py:30: DeprecationWarning: The 'body' parameter is deprecated and will be removed in a future version. Instead use individual parameters.\n",
      "  full_res = es.search(index='notes', body=full_query)\n",
      "C:\\Users\\impej\\AppData\\Local\\Temp\\ipykernel_9752\\2329163694.py:30: ElasticsearchWarning: Elasticsearch built-in security features are not enabled. Without authentication, your cluster could be accessible to anyone. See https://www.elastic.co/guide/en/elasticsearch/reference/7.17/security-minimal-setup.html to enable security.\n",
      "  full_res = es.search(index='notes', body=full_query)\n",
      "C:\\Users\\impej\\AppData\\Local\\Temp\\ipykernel_9752\\2329163694.py:31: DeprecationWarning: The 'body' parameter is deprecated and will be removed in a future version. Instead use individual parameters.\n",
      "  fuzzy_res = es.search(index='notes', body=fuzzy_query)\n",
      "C:\\Users\\impej\\AppData\\Local\\Temp\\ipykernel_9752\\2329163694.py:31: ElasticsearchWarning: Elasticsearch built-in security features are not enabled. Without authentication, your cluster could be accessible to anyone. See https://www.elastic.co/guide/en/elasticsearch/reference/7.17/security-minimal-setup.html to enable security.\n",
      "  fuzzy_res = es.search(index='notes', body=fuzzy_query)\n"
     ]
    },
    {
     "name": "stdout",
     "output_type": "stream",
     "text": [
      "denial: 2 (full search), 10 (fuzzy search)\n",
      "anger: 10 (full search), 10 (fuzzy search)\n",
      "bargaining: 0 (full search), 0 (fuzzy search)\n",
      "depression: 10 (full search), 10 (fuzzy search)\n",
      "acceptance: 9 (full search), 10 (fuzzy search)\n"
     ]
    }
   ],
   "source": [
    "from elasticsearch import Elasticsearch\n",
    "\n",
    "# Connexion à Elasticsearch\n",
    "es = Elasticsearch(hosts=['http://localhost:9200'])\n",
    "\n",
    "# Liste des étapes du deuil à inclure dans la recherche\n",
    "stages = ['denial', 'anger', 'bargaining', 'depression', 'acceptance']\n",
    "\n",
    "# Pour chaque étape dans la liste\n",
    "for stage in stages:\n",
    "    # Requête de recherche pour la recherche pleine\n",
    "    full_query = {\n",
    "        \"query\": {\n",
    "            \"match\": {\n",
    "                \"text\": stage\n",
    "            }\n",
    "        }\n",
    "    }\n",
    "\n",
    "    # Requête de recherche pour la recherche floue\n",
    "    fuzzy_query = {\n",
    "        \"query\": {\n",
    "            \"fuzzy\": {\n",
    "                \"text\": stage\n",
    "            }\n",
    "        }\n",
    "    }\n",
    "\n",
    "    # Exécution des requêtes de recherche\n",
    "    full_res = es.search(index='notes', body=full_query)\n",
    "    fuzzy_res = es.search(index='notes', body=fuzzy_query)\n",
    "\n",
    "    # Récupération des résultats\n",
    "    full_hits = full_res['hits']['hits']\n",
    "    fuzzy_hits = fuzzy_res['hits']['hits']\n",
    "    \n",
    "    # Affichage des résultats\n",
    "    print(f\"{stage}: {len(full_hits)} (full search), {len(fuzzy_hits)} (fuzzy search)\")\n"
   ]
  },
  {
   "attachments": {},
   "cell_type": "markdown",
   "metadata": {},
   "source": [
    "### Rechercher les textes:\n",
    "####            - qui doivent matcher l’expression “good day” (must)\n",
    "####            - chez les patients encore en consultation (filter)\n",
    "####            - qui contiennent si possible “to rest” (should)\n",
    "####            - qui ne doivent pas avoir seuil de confiance inférieur à 0.5 s’il existe. \n",
    "####            - Observer la répartition de ces résultats par sentiment"
   ]
  },
  {
   "cell_type": "code",
   "execution_count": 19,
   "metadata": {},
   "outputs": [
    {
     "name": "stdout",
     "output_type": "stream",
     "text": [
      "fear       0.5\n",
      "sadness    0.5\n",
      "Name: emotion, dtype: float64\n"
     ]
    },
    {
     "name": "stderr",
     "output_type": "stream",
     "text": [
      "C:\\Users\\impej\\AppData\\Local\\Temp\\ipykernel_9752\\337012199.py:28: DeprecationWarning: The 'body' parameter is deprecated and will be removed in a future version. Instead use individual parameters.\n",
      "  res = es.search(index='notes', body=query)\n",
      "C:\\Users\\impej\\AppData\\Local\\Temp\\ipykernel_9752\\337012199.py:28: ElasticsearchWarning: Elasticsearch built-in security features are not enabled. Without authentication, your cluster could be accessible to anyone. See https://www.elastic.co/guide/en/elasticsearch/reference/7.17/security-minimal-setup.html to enable security.\n",
      "  res = es.search(index='notes', body=query)\n"
     ]
    }
   ],
   "source": [
    "from elasticsearch import Elasticsearch\n",
    "import pandas as pd\n",
    "\n",
    "# Connexion à Elasticsearch\n",
    "es = Elasticsearch(hosts=['http://localhost:9200'])\n",
    "\n",
    "# Requête de recherche pour récupérer les documents correspondant aux critères\n",
    "query = {\n",
    "    \"query\": {\n",
    "        \"bool\": {\n",
    "            \"must\": [\n",
    "                {\"match_phrase\": {\"text\": \"good day\"}}\n",
    "            ],\n",
    "            \"filter\": [\n",
    "                {\"term\": {\"patient_left\": False}}\n",
    "            ],\n",
    "            \"should\": [\n",
    "                {\"match_phrase\": {\"text\": \"to rest\"}}\n",
    "            ],\n",
    "            \"must_not\": [\n",
    "                {\"range\": {\"confidence\": {\"lt\": 0.5}}}\n",
    "            ]\n",
    "        }\n",
    "    }\n",
    "}\n",
    "\n",
    "# Exécution de la requête de recherche\n",
    "res = es.search(index='notes', body=query)\n",
    "\n",
    "# Récupération des résultats\n",
    "hits = res['hits']['hits']\n",
    "\n",
    "# Création d'un DataFrame à partir des résultats\n",
    "data = [hit['_source'] for hit in hits]\n",
    "df = pd.DataFrame(data)\n",
    "\n",
    "# Calcul de la répartition des sentiments\n",
    "sentiment_counts = df['emotion'].value_counts(normalize=True)\n",
    "\n",
    "# Affichage des résultats\n",
    "print(sentiment_counts)\n"
   ]
  },
  {
   "cell_type": "markdown",
   "metadata": {},
   "source": []
  }
 ],
 "metadata": {
  "kernelspec": {
   "display_name": "base",
   "language": "python",
   "name": "python3"
  },
  "language_info": {
   "codemirror_mode": {
    "name": "ipython",
    "version": 3
   },
   "file_extension": ".py",
   "mimetype": "text/x-python",
   "name": "python",
   "nbconvert_exporter": "python",
   "pygments_lexer": "ipython3",
   "version": "3.10.8"
  },
  "orig_nbformat": 4
 },
 "nbformat": 4,
 "nbformat_minor": 2
}
