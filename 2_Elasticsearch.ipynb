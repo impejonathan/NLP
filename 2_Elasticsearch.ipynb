{
 "cells": [
  {
   "cell_type": "code",
   "execution_count": 3,
   "metadata": {},
   "outputs": [
    {
     "name": "stderr",
     "output_type": "stream",
     "text": [
      "c:\\Users\\impej\\miniconda3\\lib\\site-packages\\numba\\core\\decorators.py:262: NumbaDeprecationWarning: \u001b[1mnumba.generated_jit is deprecated. Please see the documentation at: https://numba.readthedocs.io/en/stable/reference/deprecation.html#deprecation-of-generated-jit for more information and advice on a suitable replacement.\u001b[0m\n",
      "  warnings.warn(msg, NumbaDeprecationWarning)\n",
      "C:\\Users\\impej\\AppData\\Roaming\\Python\\Python310\\site-packages\\visions\\backends\\shared\\nan_handling.py:51: NumbaDeprecationWarning: \u001b[1mThe 'nopython' keyword argument was not supplied to the 'numba.jit' decorator. The implicit default value for this argument is currently False, but it will be changed to True in Numba 0.59.0. See https://numba.readthedocs.io/en/stable/reference/deprecation.html#deprecation-of-object-mode-fall-back-behaviour-when-using-jit for details.\u001b[0m\n",
      "  def hasna(x: np.ndarray) -> bool:\n"
     ]
    }
   ],
   "source": [
    "import pandas as pd \n",
    "import matplotlib.pyplot as plt\n",
    "import seaborn as sns\n",
    "import numpy as np\n",
    "from ydata_profiling import ProfileReport\n",
    "\n",
    "import spacy\n",
    "from textblob import TextBlob\n",
    "\n",
    "\n",
    "df = pd.read_csv(\"Emotion_final.csv\")\n",
    "pd.set_option('display.max_columns', None)  "
   ]
  },
  {
   "attachments": {},
   "cell_type": "markdown",
   "metadata": {},
   "source": [
    "## création de la BDD fake avec elastique search "
   ]
  },
  {
   "cell_type": "code",
   "execution_count": 1,
   "metadata": {},
   "outputs": [
    {
     "name": "stdout",
     "output_type": "stream",
     "text": [
      "{\"took\":755,\"errors\":false,\"items\":[{\"index\":{\"_index\":\"notes\",\"_type\":\"_doc\",\"_id\":\"h5IEIIkBdEg6yxurU0ah\",\"_version\":1,\"result\":\"created\",\"_shards\":{\"total\":2,\"successful\":1,\"failed\":0},\"_seq_no\":0,\"_primary_term\":1,\"status\":201}},{\"index\":{\"_index\":\"notes\",\"_type\":\"_doc\",\"_id\":\"iJIEIIkBdEg6yxurU0ah\",\"_version\":1,\"result\":\"created\",\"_shards\":{\"total\":2,\"successful\":1,\"failed\":0},\"_seq_no\":1,\"_primary_term\":1,\"status\":201}},{\"index\":{\"_index\":\"notes\",\"_type\":\"_doc\",\"_id\":\"iZIEIIkBdEg6yxurU0ah\",\"_version\":1,\"result\":\"created\",\"_shards\":{\"total\":2,\"successful\":1,\"failed\":0},\"_seq_no\":2,\"_primary_term\":1,\"status\":201}},{\"index\":{\"_index\":\"notes\",\"_type\":\"_doc\",\"_id\":\"ipIEIIkBdEg6yxurU0ah\",\"_version\":1,\"result\":\"created\",\"_shards\":{\"total\":2,\"successful\":1,\"failed\":0},\"_seq_no\":3,\"_primary_term\":1,\"status\":201}},{\"index\":{\"_index\":\"notes\",\"_type\":\"_doc\",\"_id\":\"i5IEIIkBdEg6yxurU0ah\",\"_version\":1,\"result\":\"created\",\"_shards\":{\"total\":2,\"successful\":1,\"failed\":0},\"_seq_no\":4,\"_primary_term\":1,\"status\":201}},{\"index\":{\"_index\":\"notes\",\"_type\":\"_doc\",\"_id\":\"jJIEIIkBdEg6yxurU0ah\",\"_version\":1,\"result\":\"created\",\"_shards\":{\"total\":2,\"successful\":1,\"failed\":0},\"_seq_no\":5,\"_primary_term\":1,\"status\":201}},{\"index\":{\"_index\":\"notes\",\"_type\":\"_doc\",\"_id\":\"jZIEIIkBdEg6yxurU0ah\",\"_version\":1,\"result\":\"created\",\"_shards\":{\"total\":2,\"successful\":1,\"failed\":0},\"_seq_no\":6,\"_primary_term\":1,\"status\":201}},{\"index\":{\"_index\":\"notes\",\"_type\":\"_doc\",\"_id\":\"jpIEIIkBdEg6yxurU0ah\",\"_version\":1,\"result\":\"created\",\"_shards\":{\"total\":2,\"successful\":1,\"failed\":0},\"_seq_no\":7,\"_primary_term\":1,\"status\":201}},{\"index\":{\"_index\":\"notes\",\"_type\":\"_doc\",\"_id\":\"j5IEIIkBdEg6yxurU0ah\",\"_version\":1,\"result\":\"created\",\"_shards\":{\"total\":2,\"successful\":1,\"failed\":0},\"_seq_no\":8,\"_primary_term\":1,\"status\":201}},{\"index\":{\"_index\":\"notes\",\"_type\":\"_doc\",\"_id\":\"kJIEIIkBdEg6yxurU0ah\",\"_version\":1,\"result\":\"created\",\"_shards\":{\"total\":2,\"successful\":1,\"failed\":0},\"_seq_no\":9,\"_primary_term\":1,\"status\":201}},{\"index\":{\"_index\":\"notes\",\"_type\":\"_doc\",\"_id\":\"kZIEIIkBdEg6yxurU0ah\",\"_version\":1,\"result\":\"created\",\"_shards\":{\"total\":2,\"successful\":1,\"failed\":0},\"_seq_no\":10,\"_primary_term\":1,\"status\":201}},{\"index\":{\"_index\":\"notes\",\"_type\":\"_doc\",\"_id\":\"kpIEIIkBdEg6yxurU0ah\",\"_version\":1,\"result\":\"created\",\"_shards\":{\"total\":2,\"successful\":1,\"failed\":0},\"_seq_no\":11,\"_primary_term\":1,\"status\":201}},{\"index\":{\"_index\":\"notes\",\"_type\":\"_doc\",\"_id\":\"k5IEIIkBdEg6yxurU0ah\",\"_version\":1,\"result\":\"created\",\"_shards\":{\"total\":2,\"successful\":1,\"failed\":0},\"_seq_no\":12,\"_primary_term\":1,\"status\":201}},{\"index\":{\"_index\":\"notes\",\"_type\":\"_doc\",\"_id\":\"lJIEIIkBdEg6yxurU0ah\",\"_version\":1,\"result\":\"created\",\"_shards\":{\"total\":2,\"successful\":1,\"failed\":0},\"_seq_no\":13,\"_primary_term\":1,\"status\":201}},{\"index\":{\"_index\":\"notes\",\"_type\":\"_doc\",\"_id\":\"lZIEIIkBdEg6yxurU0ah\",\"_version\":1,\"result\":\"created\",\"_shards\":{\"total\":2,\"successful\":1,\"failed\":0},\"_seq_no\":14,\"_primary_term\":1,\"status\":201}},{\"index\":{\"_index\":\"notes\",\"_type\":\"_doc\",\"_id\":\"lpIEIIkBdEg6yxurU0ah\",\"_version\":1,\"result\":\"created\",\"_shards\":{\"total\":2,\"successful\":1,\"failed\":0},\"_seq_no\":15,\"_primary_term\":1,\"status\":201}},{\"index\":{\"_index\":\"notes\",\"_type\":\"_doc\",\"_id\":\"l5IEIIkBdEg6yxurU0ah\",\"_version\":1,\"result\":\"created\",\"_shards\":{\"total\":2,\"successful\":1,\"failed\":0},\"_seq_no\":16,\"_primary_term\":1,\"status\":201}},{\"index\":{\"_index\":\"notes\",\"_type\":\"_doc\",\"_id\":\"mJIEIIkBdEg6yxurU0ah\",\"_version\":1,\"result\":\"created\",\"_shards\":{\"total\":2,\"successful\":1,\"failed\":0},\"_seq_no\":17,\"_primary_term\":1,\"status\":201}},{\"index\":{\"_index\":\"notes\",\"_type\":\"_doc\",\"_id\":\"mZIEIIkBdEg6yxurU0ah\",\"_version\":1,\"result\":\"created\",\"_shards\":{\"total\":2,\"successful\":1,\"failed\":0},\"_seq_no\":18,\"_primary_term\":1,\"status\":201}},{\"index\":{\"_index\":\"notes\",\"_type\":\"_doc\",\"_id\":\"mpIEIIkBdEg6yxurU0ah\",\"_version\":1,\"result\":\"created\",\"_shards\":{\"total\":2,\"successful\":1,\"failed\":0},\"_seq_no\":19,\"_primary_term\":1,\"status\":201}},{\"index\":{\"_index\":\"notes\",\"_type\":\"_doc\",\"_id\":\"m5IEIIkBdEg6yxurU0ah\",\"_version\":1,\"result\":\"created\",\"_shards\":{\"total\":2,\"successful\":1,\"failed\":0},\"_seq_no\":20,\"_primary_term\":1,\"status\":201}},{\"index\":{\"_index\":\"notes\",\"_type\":\"_doc\",\"_id\":\"nJIEIIkBdEg6yxurU0ah\",\"_version\":1,\"result\":\"created\",\"_shards\":{\"total\":2,\"successful\":1,\"failed\":0},\"_seq_no\":21,\"_primary_term\":1,\"status\":201}},{\"index\":{\"_index\":\"notes\",\"_type\":\"_doc\",\"_id\":\"nZIEIIkBdEg6yxurU0ah\",\"_version\":1,\"result\":\"created\",\"_shards\":{\"total\":2,\"successful\":1,\"failed\":0},\"_seq_no\":22,\"_primary_term\":1,\"status\":201}},{\"index\":{\"_index\":\"notes\",\"_type\":\"_doc\",\"_id\":\"npIEIIkBdEg6yxurU0ah\",\"_version\":1,\"result\":\"created\",\"_shards\":{\"total\":2,\"successful\":1,\"failed\":0},\"_seq_no\":23,\"_primary_term\":1,\"status\":201}},{\"index\":{\"_index\":\"notes\",\"_type\":\"_doc\",\"_id\":\"n5IEIIkBdEg6yxurU0ah\",\"_version\":1,\"result\":\"created\",\"_shards\":{\"total\":2,\"successful\":1,\"failed\":0},\"_seq_no\":24,\"_primary_term\":1,\"status\":201}},{\"index\":{\"_index\":\"notes\",\"_type\":\"_doc\",\"_id\":\"oJIEIIkBdEg6yxurU0ah\",\"_version\":1,\"result\":\"created\",\"_shards\":{\"total\":2,\"successful\":1,\"failed\":0},\"_seq_no\":25,\"_primary_term\":1,\"status\":201}},{\"index\":{\"_index\":\"notes\",\"_type\":\"_doc\",\"_id\":\"oZIEIIkBdEg6yxurU0ah\",\"_version\":1,\"result\":\"created\",\"_shards\":{\"total\":2,\"successful\":1,\"failed\":0},\"_seq_no\":26,\"_primary_term\":1,\"status\":201}},{\"index\":{\"_index\":\"notes\",\"_type\":\"_doc\",\"_id\":\"opIEIIkBdEg6yxurU0ah\",\"_version\":1,\"result\":\"created\",\"_shards\":{\"total\":2,\"successful\":1,\"failed\":0},\"_seq_no\":27,\"_primary_term\":1,\"status\":201}},{\"index\":{\"_index\":\"notes\",\"_type\":\"_doc\",\"_id\":\"o5IEIIkBdEg6yxurU0ah\",\"_version\":1,\"result\":\"created\",\"_shards\":{\"total\":2,\"successful\":1,\"failed\":0},\"_seq_no\":28,\"_primary_term\":1,\"status\":201}},{\"index\":{\"_index\":\"notes\",\"_type\":\"_doc\",\"_id\":\"pJIEIIkBdEg6yxurU0ah\",\"_version\":1,\"result\":\"created\",\"_shards\":{\"total\":2,\"successful\":1,\"failed\":0},\"_seq_no\":29,\"_primary_term\":1,\"status\":201}},{\"index\":{\"_index\":\"notes\",\"_type\":\"_doc\",\"_id\":\"pZIEIIkBdEg6yxurU0ah\",\"_version\":1,\"result\":\"created\",\"_shards\":{\"total\":2,\"successful\":1,\"failed\":0},\"_seq_no\":30,\"_primary_term\":1,\"status\":201}},{\"index\":{\"_index\":\"notes\",\"_type\":\"_doc\",\"_id\":\"ppIEIIkBdEg6yxurU0ah\",\"_version\":1,\"result\":\"created\",\"_shards\":{\"total\":2,\"successful\":1,\"failed\":0},\"_seq_no\":31,\"_primary_term\":1,\"status\":201}},{\"index\":{\"_index\":\"notes\",\"_type\":\"_doc\",\"_id\":\"p5IEIIkBdEg6yxurU0ah\",\"_version\":1,\"result\":\"created\",\"_shards\":{\"total\":2,\"successful\":1,\"failed\":0},\"_seq_no\":32,\"_primary_term\":1,\"status\":201}},{\"index\":{\"_index\":\"notes\",\"_type\":\"_doc\",\"_id\":\"qJIEIIkBdEg6yxurU0ah\",\"_version\":1,\"result\":\"created\",\"_shards\":{\"total\":2,\"successful\":1,\"failed\":0},\"_seq_no\":33,\"_primary_term\":1,\"status\":201}},{\"index\":{\"_index\":\"notes\",\"_type\":\"_doc\",\"_id\":\"qZIEIIkBdEg6yxurU0ah\",\"_version\":1,\"result\":\"created\",\"_shards\":{\"total\":2,\"successful\":1,\"failed\":0},\"_seq_no\":34,\"_primary_term\":1,\"status\":201}},{\"index\":{\"_index\":\"notes\",\"_type\":\"_doc\",\"_id\":\"qpIEIIkBdEg6yxurU0ah\",\"_version\":1,\"result\":\"created\",\"_shards\":{\"total\":2,\"successful\":1,\"failed\":0},\"_seq_no\":35,\"_primary_term\":1,\"status\":201}},{\"index\":{\"_index\":\"notes\",\"_type\":\"_doc\",\"_id\":\"q5IEIIkBdEg6yxurU0ah\",\"_version\":1,\"result\":\"created\",\"_shards\":{\"total\":2,\"successful\":1,\"failed\":0},\"_seq_no\":36,\"_primary_term\":1,\"status\":201}},{\"index\":{\"_index\":\"notes\",\"_type\":\"_doc\",\"_id\":\"rJIEIIkBdEg6yxurU0ah\",\"_version\":1,\"result\":\"created\",\"_shards\":{\"total\":2,\"successful\":1,\"failed\":0},\"_seq_no\":37,\"_primary_term\":1,\"status\":201}},{\"index\":{\"_index\":\"notes\",\"_type\":\"_doc\",\"_id\":\"rZIEIIkBdEg6yxurU0ah\",\"_version\":1,\"result\":\"created\",\"_shards\":{\"total\":2,\"successful\":1,\"failed\":0},\"_seq_no\":38,\"_primary_term\":1,\"status\":201}},{\"index\":{\"_index\":\"notes\",\"_type\":\"_doc\",\"_id\":\"rpIEIIkBdEg6yxurU0ah\",\"_version\":1,\"result\":\"created\",\"_shards\":{\"total\":2,\"successful\":1,\"failed\":0},\"_seq_no\":39,\"_primary_term\":1,\"status\":201}},{\"index\":{\"_index\":\"notes\",\"_type\":\"_doc\",\"_id\":\"r5IEIIkBdEg6yxurU0ah\",\"_version\":1,\"result\":\"created\",\"_shards\":{\"total\":2,\"successful\":1,\"failed\":0},\"_seq_no\":40,\"_primary_term\":1,\"status\":201}},{\"index\":{\"_index\":\"notes\",\"_type\":\"_doc\",\"_id\":\"sJIEIIkBdEg6yxurU0ah\",\"_version\":1,\"result\":\"created\",\"_shards\":{\"total\":2,\"successful\":1,\"failed\":0},\"_seq_no\":41,\"_primary_term\":1,\"status\":201}},{\"index\":{\"_index\":\"notes\",\"_type\":\"_doc\",\"_id\":\"sZIEIIkBdEg6yxurU0ah\",\"_version\":1,\"result\":\"created\",\"_shards\":{\"total\":2,\"successful\":1,\"failed\":0},\"_seq_no\":42,\"_primary_term\":1,\"status\":201}},{\"index\":{\"_index\":\"notes\",\"_type\":\"_doc\",\"_id\":\"spIEIIkBdEg6yxurU0ah\",\"_version\":1,\"result\":\"created\",\"_shards\":{\"total\":2,\"successful\":1,\"failed\":0},\"_seq_no\":43,\"_primary_term\":1,\"status\":201}},{\"index\":{\"_index\":\"notes\",\"_type\":\"_doc\",\"_id\":\"s5IEIIkBdEg6yxurU0ah\",\"_version\":1,\"result\":\"created\",\"_shards\":{\"total\":2,\"successful\":1,\"failed\":0},\"_seq_no\":44,\"_primary_term\":1,\"status\":201}},{\"index\":{\"_index\":\"notes\",\"_type\":\"_doc\",\"_id\":\"tJIEIIkBdEg6yxurU0ah\",\"_version\":1,\"result\":\"created\",\"_shards\":{\"total\":2,\"successful\":1,\"failed\":0},\"_seq_no\":45,\"_primary_term\":1,\"status\":201}},{\"index\":{\"_index\":\"notes\",\"_type\":\"_doc\",\"_id\":\"tZIEIIkBdEg6yxurU0ah\",\"_version\":1,\"result\":\"created\",\"_shards\":{\"total\":2,\"successful\":1,\"failed\":0},\"_seq_no\":46,\"_primary_term\":1,\"status\":201}},{\"index\":{\"_index\":\"notes\",\"_type\":\"_doc\",\"_id\":\"tpIEIIkBdEg6yxurU0ah\",\"_version\":1,\"result\":\"created\",\"_shards\":{\"total\":2,\"successful\":1,\"failed\":0},\"_seq_no\":47,\"_primary_term\":1,\"status\":201}},{\"index\":{\"_index\":\"notes\",\"_type\":\"_doc\",\"_id\":\"t5IEIIkBdEg6yxurU0ai\",\"_version\":1,\"result\":\"created\",\"_shards\":{\"total\":2,\"successful\":1,\"failed\":0},\"_seq_no\":48,\"_primary_term\":1,\"status\":201}},{\"index\":{\"_index\":\"notes\",\"_type\":\"_doc\",\"_id\":\"uJIEIIkBdEg6yxurU0ai\",\"_version\":1,\"result\":\"created\",\"_shards\":{\"total\":2,\"successful\":1,\"failed\":0},\"_seq_no\":49,\"_primary_term\":1,\"status\":201}},{\"index\":{\"_index\":\"notes\",\"_type\":\"_doc\",\"_id\":\"uZIEIIkBdEg6yxurU0ai\",\"_version\":1,\"result\":\"created\",\"_shards\":{\"total\":2,\"successful\":1,\"failed\":0},\"_seq_no\":50,\"_primary_term\":1,\"status\":201}},{\"index\":{\"_index\":\"notes\",\"_type\":\"_doc\",\"_id\":\"upIEIIkBdEg6yxurU0ai\",\"_version\":1,\"result\":\"created\",\"_shards\":{\"total\":2,\"successful\":1,\"failed\":0},\"_seq_no\":51,\"_primary_term\":1,\"status\":201}},{\"index\":{\"_index\":\"notes\",\"_type\":\"_doc\",\"_id\":\"u5IEIIkBdEg6yxurU0ai\",\"_version\":1,\"result\":\"created\",\"_shards\":{\"total\":2,\"successful\":1,\"failed\":0},\"_seq_no\":52,\"_primary_term\":1,\"status\":201}},{\"index\":{\"_index\":\"notes\",\"_type\":\"_doc\",\"_id\":\"vJIEIIkBdEg6yxurU0ai\",\"_version\":1,\"result\":\"created\",\"_shards\":{\"total\":2,\"successful\":1,\"failed\":0},\"_seq_no\":53,\"_primary_term\":1,\"status\":201}},{\"index\":{\"_index\":\"notes\",\"_type\":\"_doc\",\"_id\":\"vZIEIIkBdEg6yxurU0ai\",\"_version\":1,\"result\":\"created\",\"_shards\":{\"total\":2,\"successful\":1,\"failed\":0},\"_seq_no\":54,\"_primary_term\":1,\"status\":201}},{\"index\":{\"_index\":\"notes\",\"_type\":\"_doc\",\"_id\":\"vpIEIIkBdEg6yxurU0ai\",\"_version\":1,\"result\":\"created\",\"_shards\":{\"total\":2,\"successful\":1,\"failed\":0},\"_seq_no\":55,\"_primary_term\":1,\"status\":201}},{\"index\":{\"_index\":\"notes\",\"_type\":\"_doc\",\"_id\":\"v5IEIIkBdEg6yxurU0ai\",\"_version\":1,\"result\":\"created\",\"_shards\":{\"total\":2,\"successful\":1,\"failed\":0},\"_seq_no\":56,\"_primary_term\":1,\"status\":201}},{\"index\":{\"_index\":\"notes\",\"_type\":\"_doc\",\"_id\":\"wJIEIIkBdEg6yxurU0ai\",\"_version\":1,\"result\":\"created\",\"_shards\":{\"total\":2,\"successful\":1,\"failed\":0},\"_seq_no\":57,\"_primary_term\":1,\"status\":201}},{\"index\":{\"_index\":\"notes\",\"_type\":\"_doc\",\"_id\":\"wZIEIIkBdEg6yxurU0ai\",\"_version\":1,\"result\":\"created\",\"_shards\":{\"total\":2,\"successful\":1,\"failed\":0},\"_seq_no\":58,\"_primary_term\":1,\"status\":201}},{\"index\":{\"_index\":\"notes\",\"_type\":\"_doc\",\"_id\":\"wpIEIIkBdEg6yxurU0ai\",\"_version\":1,\"result\":\"created\",\"_shards\":{\"total\":2,\"successful\":1,\"failed\":0},\"_seq_no\":59,\"_primary_term\":1,\"status\":201}},{\"index\":{\"_index\":\"notes\",\"_type\":\"_doc\",\"_id\":\"w5IEIIkBdEg6yxurU0ai\",\"_version\":1,\"result\":\"created\",\"_shards\":{\"total\":2,\"successful\":1,\"failed\":0},\"_seq_no\":60,\"_primary_term\":1,\"status\":201}},{\"index\":{\"_index\":\"notes\",\"_type\":\"_doc\",\"_id\":\"xJIEIIkBdEg6yxurU0ai\",\"_version\":1,\"result\":\"created\",\"_shards\":{\"total\":2,\"successful\":1,\"failed\":0},\"_seq_no\":61,\"_primary_term\":1,\"status\":201}},{\"index\":{\"_index\":\"notes\",\"_type\":\"_doc\",\"_id\":\"xZIEIIkBdEg6yxurU0ai\",\"_version\":1,\"result\":\"created\",\"_shards\":{\"total\":2,\"successful\":1,\"failed\":0},\"_seq_no\":62,\"_primary_term\":1,\"status\":201}},{\"index\":{\"_index\":\"notes\",\"_type\":\"_doc\",\"_id\":\"xpIEIIkBdEg6yxurU0ai\",\"_version\":1,\"result\":\"created\",\"_shards\":{\"total\":2,\"successful\":1,\"failed\":0},\"_seq_no\":63,\"_primary_term\":1,\"status\":201}},{\"index\":{\"_index\":\"notes\",\"_type\":\"_doc\",\"_id\":\"x5IEIIkBdEg6yxurU0ai\",\"_version\":1,\"result\":\"created\",\"_shards\":{\"total\":2,\"successful\":1,\"failed\":0},\"_seq_no\":64,\"_primary_term\":1,\"status\":201}},{\"index\":{\"_index\":\"notes\",\"_type\":\"_doc\",\"_id\":\"yJIEIIkBdEg6yxurU0ai\",\"_version\":1,\"result\":\"created\",\"_shards\":{\"total\":2,\"successful\":1,\"failed\":0},\"_seq_no\":65,\"_primary_term\":1,\"status\":201}},{\"index\":{\"_index\":\"notes\",\"_type\":\"_doc\",\"_id\":\"yZIEIIkBdEg6yxurU0ai\",\"_version\":1,\"result\":\"created\",\"_shards\":{\"total\":2,\"successful\":1,\"failed\":0},\"_seq_no\":66,\"_primary_term\":1,\"status\":201}},{\"index\":{\"_index\":\"notes\",\"_type\":\"_doc\",\"_id\":\"ypIEIIkBdEg6yxurU0ai\",\"_version\":1,\"result\":\"created\",\"_shards\":{\"total\":2,\"successful\":1,\"failed\":0},\"_seq_no\":67,\"_primary_term\":1,\"status\":201}},{\"index\":{\"_index\":\"notes\",\"_type\":\"_doc\",\"_id\":\"y5IEIIkBdEg6yxurU0ai\",\"_version\":1,\"result\":\"created\",\"_shards\":{\"total\":2,\"successful\":1,\"failed\":0},\"_seq_no\":68,\"_primary_term\":1,\"status\":201}},{\"index\":{\"_index\":\"notes\",\"_type\":\"_doc\",\"_id\":\"zJIEIIkBdEg6yxurU0ai\",\"_version\":1,\"result\":\"created\",\"_shards\":{\"total\":2,\"successful\":1,\"failed\":0},\"_seq_no\":69,\"_primary_term\":1,\"status\":201}},{\"index\":{\"_index\":\"notes\",\"_type\":\"_doc\",\"_id\":\"zZIEIIkBdEg6yxurU0ai\",\"_version\":1,\"result\":\"created\",\"_shards\":{\"total\":2,\"successful\":1,\"failed\":0},\"_seq_no\":70,\"_primary_term\":1,\"status\":201}},{\"index\":{\"_index\":\"notes\",\"_type\":\"_doc\",\"_id\":\"zpIEIIkBdEg6yxurU0ai\",\"_version\":1,\"result\":\"created\",\"_shards\":{\"total\":2,\"successful\":1,\"failed\":0},\"_seq_no\":71,\"_primary_term\":1,\"status\":201}},{\"index\":{\"_index\":\"notes\",\"_type\":\"_doc\",\"_id\":\"z5IEIIkBdEg6yxurU0ai\",\"_version\":1,\"result\":\"created\",\"_shards\":{\"total\":2,\"successful\":1,\"failed\":0},\"_seq_no\":72,\"_primary_term\":1,\"status\":201}},{\"index\":{\"_index\":\"notes\",\"_type\":\"_doc\",\"_id\":\"0JIEIIkBdEg6yxurU0ai\",\"_version\":1,\"result\":\"created\",\"_shards\":{\"total\":2,\"successful\":1,\"failed\":0},\"_seq_no\":73,\"_primary_term\":1,\"status\":201}},{\"index\":{\"_index\":\"notes\",\"_type\":\"_doc\",\"_id\":\"0ZIEIIkBdEg6yxurU0ai\",\"_version\":1,\"result\":\"created\",\"_shards\":{\"total\":2,\"successful\":1,\"failed\":0},\"_seq_no\":74,\"_primary_term\":1,\"status\":201}},{\"index\":{\"_index\":\"notes\",\"_type\":\"_doc\",\"_id\":\"0pIEIIkBdEg6yxurU0ai\",\"_version\":1,\"result\":\"created\",\"_shards\":{\"total\":2,\"successful\":1,\"failed\":0},\"_seq_no\":75,\"_primary_term\":1,\"status\":201}},{\"index\":{\"_index\":\"notes\",\"_type\":\"_doc\",\"_id\":\"05IEIIkBdEg6yxurU0ai\",\"_version\":1,\"result\":\"created\",\"_shards\":{\"total\":2,\"successful\":1,\"failed\":0},\"_seq_no\":76,\"_primary_term\":1,\"status\":201}},{\"index\":{\"_index\":\"notes\",\"_type\":\"_doc\",\"_id\":\"1JIEIIkBdEg6yxurU0ai\",\"_version\":1,\"result\":\"created\",\"_shards\":{\"total\":2,\"successful\":1,\"failed\":0},\"_seq_no\":77,\"_primary_term\":1,\"status\":201}},{\"index\":{\"_index\":\"notes\",\"_type\":\"_doc\",\"_id\":\"1ZIEIIkBdEg6yxurU0ai\",\"_version\":1,\"result\":\"created\",\"_shards\":{\"total\":2,\"successful\":1,\"failed\":0},\"_seq_no\":78,\"_primary_term\":1,\"status\":201}},{\"index\":{\"_index\":\"notes\",\"_type\":\"_doc\",\"_id\":\"1pIEIIkBdEg6yxurU0ai\",\"_version\":1,\"result\":\"created\",\"_shards\":{\"total\":2,\"successful\":1,\"failed\":0},\"_seq_no\":79,\"_primary_term\":1,\"status\":201}},{\"index\":{\"_index\":\"notes\",\"_type\":\"_doc\",\"_id\":\"15IEIIkBdEg6yxurU0ai\",\"_version\":1,\"result\":\"created\",\"_shards\":{\"total\":2,\"successful\":1,\"failed\":0},\"_seq_no\":80,\"_primary_term\":1,\"status\":201}},{\"index\":{\"_index\":\"notes\",\"_type\":\"_doc\",\"_id\":\"2JIEIIkBdEg6yxurU0ai\",\"_version\":1,\"result\":\"created\",\"_shards\":{\"total\":2,\"successful\":1,\"failed\":0},\"_seq_no\":81,\"_primary_term\":1,\"status\":201}},{\"index\":{\"_index\":\"notes\",\"_type\":\"_doc\",\"_id\":\"2ZIEIIkBdEg6yxurU0ai\",\"_version\":1,\"result\":\"created\",\"_shards\":{\"total\":2,\"successful\":1,\"failed\":0},\"_seq_no\":82,\"_primary_term\":1,\"status\":201}},{\"index\":{\"_index\":\"notes\",\"_type\":\"_doc\",\"_id\":\"2pIEIIkBdEg6yxurU0ai\",\"_version\":1,\"result\":\"created\",\"_shards\":{\"total\":2,\"successful\":1,\"failed\":0},\"_seq_no\":83,\"_primary_term\":1,\"status\":201}},{\"index\":{\"_index\":\"notes\",\"_type\":\"_doc\",\"_id\":\"25IEIIkBdEg6yxurU0ai\",\"_version\":1,\"result\":\"created\",\"_shards\":{\"total\":2,\"successful\":1,\"failed\":0},\"_seq_no\":84,\"_primary_term\":1,\"status\":201}},{\"index\":{\"_index\":\"notes\",\"_type\":\"_doc\",\"_id\":\"3JIEIIkBdEg6yxurU0ai\",\"_version\":1,\"result\":\"created\",\"_shards\":{\"total\":2,\"successful\":1,\"failed\":0},\"_seq_no\":85,\"_primary_term\":1,\"status\":201}},{\"index\":{\"_index\":\"notes\",\"_type\":\"_doc\",\"_id\":\"3ZIEIIkBdEg6yxurU0ai\",\"_version\":1,\"result\":\"created\",\"_shards\":{\"total\":2,\"successful\":1,\"failed\":0},\"_seq_no\":86,\"_primary_term\":1,\"status\":201}},{\"index\":{\"_index\":\"notes\",\"_type\":\"_doc\",\"_id\":\"3pIEIIkBdEg6yxurU0ai\",\"_version\":1,\"result\":\"created\",\"_shards\":{\"total\":2,\"successful\":1,\"failed\":0},\"_seq_no\":87,\"_primary_term\":1,\"status\":201}},{\"index\":{\"_index\":\"notes\",\"_type\":\"_doc\",\"_id\":\"35IEIIkBdEg6yxurU0ai\",\"_version\":1,\"result\":\"created\",\"_shards\":{\"total\":2,\"successful\":1,\"failed\":0},\"_seq_no\":88,\"_primary_term\":1,\"status\":201}},{\"index\":{\"_index\":\"notes\",\"_type\":\"_doc\",\"_id\":\"4JIEIIkBdEg6yxurU0ai\",\"_version\":1,\"result\":\"created\",\"_shards\":{\"total\":2,\"successful\":1,\"failed\":0},\"_seq_no\":89,\"_primary_term\":1,\"status\":201}},{\"index\":{\"_index\":\"notes\",\"_type\":\"_doc\",\"_id\":\"4ZIEIIkBdEg6yxurU0ai\",\"_version\":1,\"result\":\"created\",\"_shards\":{\"total\":2,\"successful\":1,\"failed\":0},\"_seq_no\":90,\"_primary_term\":1,\"status\":201}},{\"index\":{\"_index\":\"notes\",\"_type\":\"_doc\",\"_id\":\"4pIEIIkBdEg6yxurU0ai\",\"_version\":1,\"result\":\"created\",\"_shards\":{\"total\":2,\"successful\":1,\"failed\":0},\"_seq_no\":91,\"_primary_term\":1,\"status\":201}},{\"index\":{\"_index\":\"notes\",\"_type\":\"_doc\",\"_id\":\"45IEIIkBdEg6yxurU0ai\",\"_version\":1,\"result\":\"created\",\"_shards\":{\"total\":2,\"successful\":1,\"failed\":0},\"_seq_no\":92,\"_primary_term\":1,\"status\":201}},{\"index\":{\"_index\":\"notes\",\"_type\":\"_doc\",\"_id\":\"5JIEIIkBdEg6yxurU0ai\",\"_version\":1,\"result\":\"created\",\"_shards\":{\"total\":2,\"successful\":1,\"failed\":0},\"_seq_no\":93,\"_primary_term\":1,\"status\":201}},{\"index\":{\"_index\":\"notes\",\"_type\":\"_doc\",\"_id\":\"5ZIEIIkBdEg6yxurU0ai\",\"_version\":1,\"result\":\"created\",\"_shards\":{\"total\":2,\"successful\":1,\"failed\":0},\"_seq_no\":94,\"_primary_term\":1,\"status\":201}},{\"index\":{\"_index\":\"notes\",\"_type\":\"_doc\",\"_id\":\"5pIEIIkBdEg6yxurU0ai\",\"_version\":1,\"result\":\"created\",\"_shards\":{\"total\":2,\"successful\":1,\"failed\":0},\"_seq_no\":95,\"_primary_term\":1,\"status\":201}},{\"index\":{\"_index\":\"notes\",\"_type\":\"_doc\",\"_id\":\"55IEIIkBdEg6yxurU0ai\",\"_version\":1,\"result\":\"created\",\"_shards\":{\"total\":2,\"successful\":1,\"failed\":0},\"_seq_no\":96,\"_primary_term\":1,\"status\":201}},{\"index\":{\"_index\":\"notes\",\"_type\":\"_doc\",\"_id\":\"6JIEIIkBdEg6yxurU0ai\",\"_version\":1,\"result\":\"created\",\"_shards\":{\"total\":2,\"successful\":1,\"failed\":0},\"_seq_no\":97,\"_primary_term\":1,\"status\":201}},{\"index\":{\"_index\":\"notes\",\"_type\":\"_doc\",\"_id\":\"6ZIEIIkBdEg6yxurU0ai\",\"_version\":1,\"result\":\"created\",\"_shards\":{\"total\":2,\"successful\":1,\"failed\":0},\"_seq_no\":98,\"_primary_term\":1,\"status\":201}},{\"index\":{\"_index\":\"notes\",\"_type\":\"_doc\",\"_id\":\"6pIEIIkBdEg6yxurU0ai\",\"_version\":1,\"result\":\"created\",\"_shards\":{\"total\":2,\"successful\":1,\"failed\":0},\"_seq_no\":99,\"_primary_term\":1,\"status\":201}}]}\n"
     ]
    }
   ],
   "source": [
    "# import requests\n",
    "# import json\n",
    "# from faker import Faker\n",
    "\n",
    "# url = 'http://localhost:9200/notes/_bulk'\n",
    "# headers = {'Content-Type': 'application/x-ndjson'}\n",
    "\n",
    "# faker = Faker()\n",
    "\n",
    "# data = ''\n",
    "# for _ in range(100):\n",
    "#     patient_lastname = faker.last_name()\n",
    "#     patient_firstname = faker.first_name()\n",
    "#     text = faker.text()\n",
    "#     date = faker.date()\n",
    "#     patient_left = faker.boolean()\n",
    "#     emotion = faker.word()\n",
    "#     confidence = faker.pyfloat(left_digits=1, right_digits=2, positive=True)\n",
    "\n",
    "#     index = {\"index\": {}}\n",
    "#     doc = {\n",
    "#         \"patient_lastname\": patient_lastname,\n",
    "#         \"patient_firstname\": patient_firstname,\n",
    "#         \"text\": text,\n",
    "#         \"date\": date,\n",
    "#         \"patient_left\": patient_left,\n",
    "#         \"emotion\": emotion,\n",
    "#         \"confidence\": confidence\n",
    "#     }\n",
    "\n",
    "#     data += json.dumps(index) + '\\n'\n",
    "#     data += json.dumps(doc) + '\\n'\n",
    "\n",
    "# response = requests.post(url, headers=headers, data=data)\n",
    "# print(response.text)\n"
   ]
  },
  {
   "cell_type": "code",
   "execution_count": 2,
   "metadata": {},
   "outputs": [
    {
     "name": "stdout",
     "output_type": "stream",
     "text": [
      "{\"took\":4,\"timed_out\":false,\"_shards\":{\"total\":1,\"successful\":1,\"skipped\":0,\"failed\":0},\"hits\":{\"total\":{\"value\":100,\"relation\":\"eq\"},\"max_score\":1.0,\"hits\":[{\"_index\":\"notes\",\"_type\":\"_doc\",\"_id\":\"h5IEIIkBdEg6yxurU0ah\",\"_score\":1.0,\"_source\":{\"patient_lastname\": \"Chambers\", \"patient_firstname\": \"Adrian\", \"text\": \"Source decide game player dog owner often. Tree increase particularly arrive friend stay.\\nSituation Congress Democrat stand. Cold he Mr.\", \"date\": \"2008-09-07\", \"patient_left\": true, \"emotion\": \"break\", \"confidence\": 5.53}},{\"_index\":\"notes\",\"_type\":\"_doc\",\"_id\":\"iJIEIIkBdEg6yxurU0ah\",\"_score\":1.0,\"_source\":{\"patient_lastname\": \"Davis\", \"patient_firstname\": \"Gary\", \"text\": \"Democrat factor number card people value daughter. Win product both reveal leg he fall. Kid agree through newspaper boy senior theory light.\", \"date\": \"2007-01-24\", \"patient_left\": true, \"emotion\": \"add\", \"confidence\": 0.19}},{\"_index\":\"notes\",\"_type\":\"_doc\",\"_id\":\"iZIEIIkBdEg6yxurU0ah\",\"_score\":1.0,\"_source\":{\"patient_lastname\": \"Bailey\", \"patient_firstname\": \"Lisa\", \"text\": \"Degree ball number dog sit high build. Effort I name I guess natural participant. Line worry TV hundred young.\", \"date\": \"1998-10-19\", \"patient_left\": false, \"emotion\": \"skill\", \"confidence\": 8.61}},{\"_index\":\"notes\",\"_type\":\"_doc\",\"_id\":\"ipIEIIkBdEg6yxurU0ah\",\"_score\":1.0,\"_source\":{\"patient_lastname\": \"Peters\", \"patient_firstname\": \"Thomas\", \"text\": \"Along worker finally board. Nation world much again low day. Detail military nice know media bar.\\nTrial nothing woman specific. Fund institution night responsibility or.\", \"date\": \"2002-07-24\", \"patient_left\": false, \"emotion\": \"example\", \"confidence\": 3.58}},{\"_index\":\"notes\",\"_type\":\"_doc\",\"_id\":\"i5IEIIkBdEg6yxurU0ah\",\"_score\":1.0,\"_source\":{\"patient_lastname\": \"Ryan\", \"patient_firstname\": \"Deborah\", \"text\": \"Baby yes treatment use pattern establish law. Free pretty parent exist blood man. Computer friend often.\\nWall development blood. Offer risk player.\", \"date\": \"2007-09-21\", \"patient_left\": true, \"emotion\": \"improve\", \"confidence\": 2.43}},{\"_index\":\"notes\",\"_type\":\"_doc\",\"_id\":\"jJIEIIkBdEg6yxurU0ah\",\"_score\":1.0,\"_source\":{\"patient_lastname\": \"Gardner\", \"patient_firstname\": \"Samantha\", \"text\": \"Likely sometimes one free. Business ground poor although financial.\\nSurface data think account trade. Nice because often. Many language environmental apply serve office international.\", \"date\": \"1994-02-08\", \"patient_left\": false, \"emotion\": \"many\", \"confidence\": 2.74}},{\"_index\":\"notes\",\"_type\":\"_doc\",\"_id\":\"jZIEIIkBdEg6yxurU0ah\",\"_score\":1.0,\"_source\":{\"patient_lastname\": \"Alvarado\", \"patient_firstname\": \"William\", \"text\": \"Gun wear tax work population summer fill. Lay his soldier leader trouble. Program adult concern away peace local.\\nLead figure occur mean kind care. Air include as moment.\", \"date\": \"2000-12-31\", \"patient_left\": false, \"emotion\": \"professional\", \"confidence\": 5.18}},{\"_index\":\"notes\",\"_type\":\"_doc\",\"_id\":\"jpIEIIkBdEg6yxurU0ah\",\"_score\":1.0,\"_source\":{\"patient_lastname\": \"Rivera\", \"patient_firstname\": \"Charles\", \"text\": \"Especially whether behavior low able. Class available bag seek.\\nAlmost husband culture in prove soldier. Them little firm black.\", \"date\": \"2014-08-23\", \"patient_left\": false, \"emotion\": \"within\", \"confidence\": 9.99}},{\"_index\":\"notes\",\"_type\":\"_doc\",\"_id\":\"j5IEIIkBdEg6yxurU0ah\",\"_score\":1.0,\"_source\":{\"patient_lastname\": \"Martinez\", \"patient_firstname\": \"Helen\", \"text\": \"Wonder religious stop its sister recently. Official try free evening during. Save policy building provide pressure worry single trade.\\nEvery interesting agree owner involve degree seek.\", \"date\": \"1988-05-24\", \"patient_left\": false, \"emotion\": \"than\", \"confidence\": 4.45}},{\"_index\":\"notes\",\"_type\":\"_doc\",\"_id\":\"kJIEIIkBdEg6yxurU0ah\",\"_score\":1.0,\"_source\":{\"patient_lastname\": \"Hall\", \"patient_firstname\": \"Michael\", \"text\": \"Deep must certainly son rise pull unit. Resource present fine.\\nAgo fine probably book. By without technology low just may never.\", \"date\": \"2016-08-02\", \"patient_left\": false, \"emotion\": \"economy\", \"confidence\": 2.63}}]}}\n"
     ]
    }
   ],
   "source": [
    "import requests\n",
    "import json\n",
    "\n",
    "url = 'http://localhost:9200/notes/_search'\n",
    "headers = {'Content-Type': 'application/json'}\n",
    "\n",
    "query = {\n",
    "    \"query\": {\n",
    "        \"match_all\": {}\n",
    "    }\n",
    "}\n",
    "\n",
    "response = requests.get(url, headers=headers, data=json.dumps(query))\n",
    "print(response.text)\n"
   ]
  },
  {
   "cell_type": "code",
   "execution_count": 4,
   "metadata": {},
   "outputs": [
    {
     "name": "stdout",
     "output_type": "stream",
     "text": [
      "['000' '12' '1997' ... 'zum' 'zumba' 'zzap']\n",
      "[[0. 0. 0. ... 0. 0. 0.]\n",
      " [0. 0. 0. ... 0. 0. 0.]\n",
      " [0. 0. 0. ... 0. 0. 0.]\n",
      " ...\n",
      " [0. 0. 0. ... 0. 0. 0.]\n",
      " [0. 0. 0. ... 0. 0. 0.]\n",
      " [0. 0. 0. ... 0. 0. 0.]]\n"
     ]
    }
   ],
   "source": [
    "import spacy\n",
    "from sklearn.feature_extraction.text import CountVectorizer, TfidfVectorizer\n",
    "df = pd.read_csv(\"Emotion_final.csv\")\n",
    "\n",
    "nlp = spacy.load(\"en_core_web_sm\")\n",
    "\n",
    "def preprocess(text):\n",
    "    doc = nlp(text)\n",
    "    tokens = [token.lemma_ for token in doc]\n",
    "    filtered_tokens = [token for token in tokens if not (nlp.vocab[token].is_punct or nlp.vocab[token].is_stop or len(token) < 3 or token.isnumeric() or token.isspace() or token.lower() in {'feel', 'feeling','feelings', 'like','im','really', 'today','didnt','go', 'know', 'get', 'want', 'would', 'time', 'little', 'ive', 'still', 'even', 'one',  'people', 'think', 'bit', 'things', 'much', 'dont', 'make', 'day', 'something', 'back', 'going', 'way', 'could'})]    \n",
    "    return ' '.join(filtered_tokens)\n",
    "\n",
    "corpus = df['Text'].tolist()\n",
    "corpus = [preprocess(text) for text in corpus]\n",
    "\n",
    "# TF-IDF\n",
    "vectorizer = TfidfVectorizer()\n",
    "X = vectorizer.fit_transform(corpus)\n",
    "print(vectorizer.get_feature_names_out())\n",
    "print(X.toarray())"
   ]
  },
  {
   "cell_type": "code",
   "execution_count": 5,
   "metadata": {},
   "outputs": [
    {
     "name": "stdout",
     "output_type": "stream",
     "text": [
      "Accuracy: 0.86\n"
     ]
    }
   ],
   "source": [
    "from sklearn.ensemble import RandomForestClassifier\n",
    "from sklearn.model_selection import train_test_split\n",
    "from sklearn.metrics import accuracy_score\n",
    "from sklearn.preprocessing import LabelEncoder\n",
    "\n",
    "\n",
    "y = df['Emotion'].values\n",
    "\n",
    "# Encode labels\n",
    "le = LabelEncoder()\n",
    "y = le.fit_transform(y)\n",
    "\n",
    "X_train, X_test, y_train, y_test = train_test_split(X, y, test_size=0.2)\n",
    "\n",
    "clf = RandomForestClassifier()\n",
    "clf.fit(X_train, y_train)\n",
    "\n",
    "y_pred = clf.predict(X_test)\n",
    "accuracy = accuracy_score(y_test, y_pred)\n",
    "print(f\"Accuracy: {accuracy:.2f}\")"
   ]
  },
  {
   "cell_type": "code",
   "execution_count": 13,
   "metadata": {},
   "outputs": [
    {
     "name": "stderr",
     "output_type": "stream",
     "text": [
      "C:\\Users\\impej\\AppData\\Local\\Temp\\ipykernel_9752\\4233235036.py:35: DeprecationWarning: The 'body' parameter is deprecated and will be removed in a future version. Instead use the 'document' parameter. See https://github.com/elastic/elasticsearch-py/issues/1698 for more information\n",
      "  es.index(index='notes', body=doc)\n",
      "C:\\Users\\impej\\AppData\\Local\\Temp\\ipykernel_9752\\4233235036.py:35: ElasticsearchWarning: Elasticsearch built-in security features are not enabled. Without authentication, your cluster could be accessible to anyone. See https://www.elastic.co/guide/en/elasticsearch/reference/7.17/security-minimal-setup.html to enable security.\n",
      "  es.index(index='notes', body=doc)\n"
     ]
    }
   ],
   "source": [
    "from elasticsearch import Elasticsearch\n",
    "from faker import Faker\n",
    "\n",
    "faker = Faker()\n",
    "\n",
    "# Prédictions de probabilité pour chaque texte\n",
    "proba = clf.predict_proba(X)\n",
    "\n",
    "# Récupération des étiquettes de classe\n",
    "class_labels = le.inverse_transform(clf.classes_)\n",
    "\n",
    "# Remplissage des colonnes \"emotion\" et \"confidence\"\n",
    "df['emotion'] = [class_labels[np.argmax(p)] for p in proba]\n",
    "df['confidence'] = [np.max(p) for p in proba]\n",
    "\n",
    "# Connexion à Elasticsearch\n",
    "es = Elasticsearch(hosts=['http://localhost:9200'])\n",
    "\n",
    "# Indexation des données dans Elasticsearch\n",
    "for _, row in df.iterrows():\n",
    "    patient_lastname = faker.last_name()\n",
    "    patient_firstname = faker.first_name()\n",
    "    date = faker.date()\n",
    "    patient_left = faker.boolean()\n",
    "    \n",
    "    doc = {\n",
    "        'patient_lastname': patient_lastname,\n",
    "        'patient_firstname': patient_firstname,\n",
    "        'text': row['Text'],\n",
    "        'date': date,\n",
    "        'patient_left': patient_left,\n",
    "        'emotion': row['emotion'],\n",
    "        'confidence': row['confidence']\n",
    "    }\n",
    "    es.index(index='notes', body=doc)\n"
   ]
  },
  {
   "cell_type": "code",
   "execution_count": 11,
   "metadata": {},
   "outputs": [
    {
     "name": "stdout",
     "output_type": "stream",
     "text": [
      "{'text': 'i feel much more energetic generally im sleeping better and so is my wife', 'emotion': 'happy', 'confidence': 1.0}\n",
      "{'text': 'i can however tell you that it will hurt you will be humiliated and you will feel wonderful afterwards', 'emotion': 'happy', 'confidence': 0.71}\n",
      "{'text': 'ive gone through stages of nervousness and sheer terror but now i am feeling relaxed and excited', 'emotion': 'happy', 'confidence': 0.9}\n",
      "{'text': 'i feel joyful and not feeble', 'emotion': 'happy', 'confidence': 0.99}\n",
      "{'text': 'i feel like garbage i cant think about being thankful right now it hurts too badly', 'emotion': 'happy', 'confidence': 0.91}\n",
      "{'text': 'i can genuinely say from the bottom of my heart that i feel absolutely thankful', 'emotion': 'happy', 'confidence': 0.93}\n",
      "{'text': 'i see how strong and bright you are and as you meet your milestones weeks early i feel assured that my gut was always right', 'emotion': 'happy', 'confidence': 0.95}\n",
      "{'text': 'i feel rewarded and useful and valuable anyway', 'emotion': 'happy', 'confidence': 1.0}\n",
      "{'text': 'i was feeling calm luckily was not shocked because in my mind i ve been thinking to get standby no matter what was the outcome of the result', 'emotion': 'happy', 'confidence': 0.79}\n",
      "{'text': 'i am still feeling joyful at rest at peace and that nothing nothing nothing can stop me', 'emotion': 'happy', 'confidence': 0.98}\n"
     ]
    },
    {
     "name": "stderr",
     "output_type": "stream",
     "text": [
      "C:\\Users\\impej\\AppData\\Local\\Temp\\ipykernel_9752\\1124562407.py:16: DeprecationWarning: The 'body' parameter is deprecated and will be removed in a future version. Instead use individual parameters.\n",
      "  res = es.search(index='notes', body=query)\n",
      "C:\\Users\\impej\\AppData\\Local\\Temp\\ipykernel_9752\\1124562407.py:16: ElasticsearchWarning: Elasticsearch built-in security features are not enabled. Without authentication, your cluster could be accessible to anyone. See https://www.elastic.co/guide/en/elasticsearch/reference/7.17/security-minimal-setup.html to enable security.\n",
      "  res = es.search(index='notes', body=query)\n"
     ]
    }
   ],
   "source": [
    "from elasticsearch import Elasticsearch\n",
    "\n",
    "# Connexion à Elasticsearch\n",
    "es = Elasticsearch(hosts=['http://localhost:9200'])\n",
    "\n",
    "# Requête de recherche pour récupérer tous les documents\n",
    "query = {\n",
    "    \"query\": {\n",
    "        \"match\": {\n",
    "            \"emotion\": \"happy\"\n",
    "        }\n",
    "    }\n",
    "}\n",
    "\n",
    "# Exécution de la requête de recherche\n",
    "res = es.search(index='notes', body=query)\n",
    "\n",
    "# Récupération des résultats\n",
    "hits = res['hits']['hits']\n",
    "\n",
    "# Affichage des résultats\n",
    "for hit in hits:\n",
    "    print(hit['_source'])\n"
   ]
  },
  {
   "cell_type": "markdown",
   "metadata": {},
   "source": [
    "# effacement"
   ]
  },
  {
   "cell_type": "code",
   "execution_count": 12,
   "metadata": {},
   "outputs": [
    {
     "name": "stdout",
     "output_type": "stream",
     "text": [
      "Les documents ont été supprimés avec succès.\n"
     ]
    }
   ],
   "source": [
    "# import requests\n",
    "\n",
    "# index = 'notes'  # Remplacez par le nom de votre index\n",
    "\n",
    "# # URL de l'API de suppression des documents\n",
    "# url = f'http://localhost:9200/{index}/_delete_by_query'\n",
    "\n",
    "# # Corps de la requête de suppression\n",
    "# query = {\n",
    "#     \"query\": {\n",
    "#         \"match_all\": {}\n",
    "#     }\n",
    "# }\n",
    "\n",
    "# # Envoyer la requête de suppression\n",
    "# response = requests.post(url, json=query)\n",
    "\n",
    "# # Vérifier la réponse\n",
    "# if response.status_code == 200:\n",
    "#     print(\"Les documents ont été supprimés avec succès.\")\n",
    "# else:\n",
    "#     print(\"Une erreur s'est produite lors de la suppression des documents.\")\n",
    "#     print(response.text)"
   ]
  }
 ],
 "metadata": {
  "kernelspec": {
   "display_name": "base",
   "language": "python",
   "name": "python3"
  },
  "language_info": {
   "codemirror_mode": {
    "name": "ipython",
    "version": 3
   },
   "file_extension": ".py",
   "mimetype": "text/x-python",
   "name": "python",
   "nbconvert_exporter": "python",
   "pygments_lexer": "ipython3",
   "version": "3.10.8"
  },
  "orig_nbformat": 4
 },
 "nbformat": 4,
 "nbformat_minor": 2
}
